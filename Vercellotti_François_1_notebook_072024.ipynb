{
 "cells": [
  {
   "cell_type": "markdown",
   "id": "69f6e753",
   "metadata": {},
   "source": [
    "# Analyse des ventes d'une librairie en ligne"
   ]
  },
  {
   "cell_type": "markdown",
   "id": "564c34c7",
   "metadata": {},
   "source": [
    "## Introduction"
   ]
  },
  {
   "cell_type": "markdown",
   "id": "17603705",
   "metadata": {},
   "source": [
    "### Table des matières\n",
    "\n",
    "1. [Préparation](#1.-Préparation)\n",
    "    - 1.1 [Importation des librairies](#1.1-Importation-des-librairies)\n",
    "    - 1.2 [Chargement des fichiers](#1.2-Chargement-des-fichiers)\n",
    "    \n",
    "2. [Analyses exploratoire des fichiers](#2.-Analyses-exploratoire-des-fichiers)\n",
    "    - 2.1 [Analyse exploratoire du fichier customers](#2.1-Analyse-exploratoire-du-fichier-customers)\n",
    "    - 2.2 [Analyse exploratoire du fichier products](#2.2-Analyse-exploratoire-du-fichier-products)  \n",
    "    - 2.3 [Analyse exploratoire du fichier transactions](#2.3-Analyse-exploratoire-du-fichier-transactions)  \n",
    "3. [Agrégation des données](#3.-Agrégation-des-données)\n",
    "    - 3.1 [Jointure des Data frame customers et transaction](#3.1-Jointure-des-Data-frame-customers-et-transaction)\n",
    "    - 3.2 [Jointure avec le Data frame products](#3.2-Jointure-avec-le-Data-frame-products)\n",
    "    - 3.3 [Traitement des erreurs dans le nouveau Data Frame](#3.3-Traitement-des-erreurs-dans-le-nouveau-Data-Frame)\n",
    "4. [Analyses](#4.-Analyses)\n",
    "    - 4.1 [Analyse sur le chiffre d'affaires](#4.1-Analyse-sur-le-chiffre-d'affaires)\n",
    "    - 4.2 [Analyse des ventes](#4.2-Analyse-des-ventes)\n",
    "    - 4.3 [Analyse des prix](#4.3-Analyse-des-prix)\n",
    "    - 4.4 [Analyse des références](#4.4-Analyse-des-références)\n",
    "    - 4.5 [Profil des clients](#4.5-Profil-des-clients)\n",
    "    - 4.6 [Analyse des comportements d'achat](#4.6-Analyse-des-comportements-d'achat)\n",
    "5. [Analyse des liaisons et corrélations](#5.-Analyse-des-liaisons-et-corrélations)\n",
    "    - 5.1 [Liaison entre genre et catégorie de livre acheté](#5.1-Liaison-entre-genre-et-catégorie-de-livre-acheté)\n",
    "    - 5.2 [Corrélation entre l'âge et le montant total des achats](#5.2-Corrélation-entre-l'âge-et-le-montant-total-des-achats)\n",
    "    - 5.3 [Corrélation entre l'âge et la fréquence des achats](#5.3-Corrélation-entre-l'âge-et-la-fréquence-d'achat)\n",
    "    - 5.4 [Corrélation entre l'âge et le panier moyen](#5.4-Corrélation-entre-l'âge-et-le-panier-moyen)\n",
    "    - 5.5 [Liaison entre l'âge des clients et la catégorie de livre acheté](#5.5-Liaison-entre-l'âge-des-clients-et-la-catégorie-de-livre-acheté)\n"
   ]
  },
  {
   "cell_type": "markdown",
   "id": "3a1e26e9",
   "metadata": {},
   "source": [
    "# 1. Préparation"
   ]
  },
  {
   "cell_type": "markdown",
   "id": "135ae26f",
   "metadata": {},
   "source": [
    "## 1.1 Importation des librairies"
   ]
  },
  {
   "cell_type": "code",
   "execution_count": 4,
   "id": "a30154e7",
   "metadata": {},
   "outputs": [],
   "source": [
    "import pandas as pd\n",
    "import numpy as np\n",
    "import matplotlib.pyplot as plt\n",
    "import seaborn as sns\n",
    "from sklearn.experimental import enable_iterative_imputer\n",
    "from sklearn.impute import IterativeImputer, SimpleImputer\n",
    "from sklearn.tree import DecisionTreeRegressor\n",
    "import plotly.express as px\n",
    "from scipy import stats\n",
    "from scipy.stats import shapiro, spearmanr,f_oneway, levene\n",
    "from scipy.stats import chi2_contingency\n",
    "from scipy.stats import kstest, norm\n",
    "from scipy.stats import kruskal\n",
    "from scipy.stats import mannwhitneyu\n",
    "from sklearn.pipeline import Pipeline\n",
    "from sklearn.ensemble import RandomForestRegressor\n",
    "from sklearn.linear_model import LinearRegression\n",
    "from sklearn.model_selection import TimeSeriesSplit, cross_val_score\n",
    "from sklearn.metrics import mean_squared_error\n"
   ]
  },
  {
   "cell_type": "markdown",
   "id": "d139fa2e",
   "metadata": {},
   "source": [
    "## 1.2 Chargement des fichiers"
   ]
  },
  {
   "cell_type": "code",
   "execution_count": 5,
   "id": "4dfdffd3",
   "metadata": {},
   "outputs": [
    {
     "ename": "FileNotFoundError",
     "evalue": "[Errno 2] No such file or directory: 'customers.csv'",
     "output_type": "error",
     "traceback": [
      "\u001b[1;31m---------------------------------------------------------------------------\u001b[0m",
      "\u001b[1;31mFileNotFoundError\u001b[0m                         Traceback (most recent call last)",
      "Cell \u001b[1;32mIn[5], line 1\u001b[0m\n\u001b[1;32m----> 1\u001b[0m customers \u001b[38;5;241m=\u001b[39m pd\u001b[38;5;241m.\u001b[39mread_csv(\u001b[38;5;124m'\u001b[39m\u001b[38;5;124mcustomers.csv\u001b[39m\u001b[38;5;124m'\u001b[39m)\n\u001b[0;32m      2\u001b[0m products \u001b[38;5;241m=\u001b[39m pd\u001b[38;5;241m.\u001b[39mread_csv(\u001b[38;5;124m'\u001b[39m\u001b[38;5;124mproducts.csv\u001b[39m\u001b[38;5;124m'\u001b[39m)\n\u001b[0;32m      3\u001b[0m transactions \u001b[38;5;241m=\u001b[39m pd\u001b[38;5;241m.\u001b[39mread_csv(\u001b[38;5;124m'\u001b[39m\u001b[38;5;124mtransactions.csv\u001b[39m\u001b[38;5;124m'\u001b[39m)\n",
      "File \u001b[1;32m~\\anaconda3\\Lib\\site-packages\\pandas\\io\\parsers\\readers.py:912\u001b[0m, in \u001b[0;36mread_csv\u001b[1;34m(filepath_or_buffer, sep, delimiter, header, names, index_col, usecols, dtype, engine, converters, true_values, false_values, skipinitialspace, skiprows, skipfooter, nrows, na_values, keep_default_na, na_filter, verbose, skip_blank_lines, parse_dates, infer_datetime_format, keep_date_col, date_parser, date_format, dayfirst, cache_dates, iterator, chunksize, compression, thousands, decimal, lineterminator, quotechar, quoting, doublequote, escapechar, comment, encoding, encoding_errors, dialect, on_bad_lines, delim_whitespace, low_memory, memory_map, float_precision, storage_options, dtype_backend)\u001b[0m\n\u001b[0;32m    899\u001b[0m kwds_defaults \u001b[38;5;241m=\u001b[39m _refine_defaults_read(\n\u001b[0;32m    900\u001b[0m     dialect,\n\u001b[0;32m    901\u001b[0m     delimiter,\n\u001b[1;32m   (...)\u001b[0m\n\u001b[0;32m    908\u001b[0m     dtype_backend\u001b[38;5;241m=\u001b[39mdtype_backend,\n\u001b[0;32m    909\u001b[0m )\n\u001b[0;32m    910\u001b[0m kwds\u001b[38;5;241m.\u001b[39mupdate(kwds_defaults)\n\u001b[1;32m--> 912\u001b[0m \u001b[38;5;28;01mreturn\u001b[39;00m _read(filepath_or_buffer, kwds)\n",
      "File \u001b[1;32m~\\anaconda3\\Lib\\site-packages\\pandas\\io\\parsers\\readers.py:577\u001b[0m, in \u001b[0;36m_read\u001b[1;34m(filepath_or_buffer, kwds)\u001b[0m\n\u001b[0;32m    574\u001b[0m _validate_names(kwds\u001b[38;5;241m.\u001b[39mget(\u001b[38;5;124m\"\u001b[39m\u001b[38;5;124mnames\u001b[39m\u001b[38;5;124m\"\u001b[39m, \u001b[38;5;28;01mNone\u001b[39;00m))\n\u001b[0;32m    576\u001b[0m \u001b[38;5;66;03m# Create the parser.\u001b[39;00m\n\u001b[1;32m--> 577\u001b[0m parser \u001b[38;5;241m=\u001b[39m TextFileReader(filepath_or_buffer, \u001b[38;5;241m*\u001b[39m\u001b[38;5;241m*\u001b[39mkwds)\n\u001b[0;32m    579\u001b[0m \u001b[38;5;28;01mif\u001b[39;00m chunksize \u001b[38;5;129;01mor\u001b[39;00m iterator:\n\u001b[0;32m    580\u001b[0m     \u001b[38;5;28;01mreturn\u001b[39;00m parser\n",
      "File \u001b[1;32m~\\anaconda3\\Lib\\site-packages\\pandas\\io\\parsers\\readers.py:1407\u001b[0m, in \u001b[0;36mTextFileReader.__init__\u001b[1;34m(self, f, engine, **kwds)\u001b[0m\n\u001b[0;32m   1404\u001b[0m     \u001b[38;5;28mself\u001b[39m\u001b[38;5;241m.\u001b[39moptions[\u001b[38;5;124m\"\u001b[39m\u001b[38;5;124mhas_index_names\u001b[39m\u001b[38;5;124m\"\u001b[39m] \u001b[38;5;241m=\u001b[39m kwds[\u001b[38;5;124m\"\u001b[39m\u001b[38;5;124mhas_index_names\u001b[39m\u001b[38;5;124m\"\u001b[39m]\n\u001b[0;32m   1406\u001b[0m \u001b[38;5;28mself\u001b[39m\u001b[38;5;241m.\u001b[39mhandles: IOHandles \u001b[38;5;241m|\u001b[39m \u001b[38;5;28;01mNone\u001b[39;00m \u001b[38;5;241m=\u001b[39m \u001b[38;5;28;01mNone\u001b[39;00m\n\u001b[1;32m-> 1407\u001b[0m \u001b[38;5;28mself\u001b[39m\u001b[38;5;241m.\u001b[39m_engine \u001b[38;5;241m=\u001b[39m \u001b[38;5;28mself\u001b[39m\u001b[38;5;241m.\u001b[39m_make_engine(f, \u001b[38;5;28mself\u001b[39m\u001b[38;5;241m.\u001b[39mengine)\n",
      "File \u001b[1;32m~\\anaconda3\\Lib\\site-packages\\pandas\\io\\parsers\\readers.py:1661\u001b[0m, in \u001b[0;36mTextFileReader._make_engine\u001b[1;34m(self, f, engine)\u001b[0m\n\u001b[0;32m   1659\u001b[0m     \u001b[38;5;28;01mif\u001b[39;00m \u001b[38;5;124m\"\u001b[39m\u001b[38;5;124mb\u001b[39m\u001b[38;5;124m\"\u001b[39m \u001b[38;5;129;01mnot\u001b[39;00m \u001b[38;5;129;01min\u001b[39;00m mode:\n\u001b[0;32m   1660\u001b[0m         mode \u001b[38;5;241m+\u001b[39m\u001b[38;5;241m=\u001b[39m \u001b[38;5;124m\"\u001b[39m\u001b[38;5;124mb\u001b[39m\u001b[38;5;124m\"\u001b[39m\n\u001b[1;32m-> 1661\u001b[0m \u001b[38;5;28mself\u001b[39m\u001b[38;5;241m.\u001b[39mhandles \u001b[38;5;241m=\u001b[39m get_handle(\n\u001b[0;32m   1662\u001b[0m     f,\n\u001b[0;32m   1663\u001b[0m     mode,\n\u001b[0;32m   1664\u001b[0m     encoding\u001b[38;5;241m=\u001b[39m\u001b[38;5;28mself\u001b[39m\u001b[38;5;241m.\u001b[39moptions\u001b[38;5;241m.\u001b[39mget(\u001b[38;5;124m\"\u001b[39m\u001b[38;5;124mencoding\u001b[39m\u001b[38;5;124m\"\u001b[39m, \u001b[38;5;28;01mNone\u001b[39;00m),\n\u001b[0;32m   1665\u001b[0m     compression\u001b[38;5;241m=\u001b[39m\u001b[38;5;28mself\u001b[39m\u001b[38;5;241m.\u001b[39moptions\u001b[38;5;241m.\u001b[39mget(\u001b[38;5;124m\"\u001b[39m\u001b[38;5;124mcompression\u001b[39m\u001b[38;5;124m\"\u001b[39m, \u001b[38;5;28;01mNone\u001b[39;00m),\n\u001b[0;32m   1666\u001b[0m     memory_map\u001b[38;5;241m=\u001b[39m\u001b[38;5;28mself\u001b[39m\u001b[38;5;241m.\u001b[39moptions\u001b[38;5;241m.\u001b[39mget(\u001b[38;5;124m\"\u001b[39m\u001b[38;5;124mmemory_map\u001b[39m\u001b[38;5;124m\"\u001b[39m, \u001b[38;5;28;01mFalse\u001b[39;00m),\n\u001b[0;32m   1667\u001b[0m     is_text\u001b[38;5;241m=\u001b[39mis_text,\n\u001b[0;32m   1668\u001b[0m     errors\u001b[38;5;241m=\u001b[39m\u001b[38;5;28mself\u001b[39m\u001b[38;5;241m.\u001b[39moptions\u001b[38;5;241m.\u001b[39mget(\u001b[38;5;124m\"\u001b[39m\u001b[38;5;124mencoding_errors\u001b[39m\u001b[38;5;124m\"\u001b[39m, \u001b[38;5;124m\"\u001b[39m\u001b[38;5;124mstrict\u001b[39m\u001b[38;5;124m\"\u001b[39m),\n\u001b[0;32m   1669\u001b[0m     storage_options\u001b[38;5;241m=\u001b[39m\u001b[38;5;28mself\u001b[39m\u001b[38;5;241m.\u001b[39moptions\u001b[38;5;241m.\u001b[39mget(\u001b[38;5;124m\"\u001b[39m\u001b[38;5;124mstorage_options\u001b[39m\u001b[38;5;124m\"\u001b[39m, \u001b[38;5;28;01mNone\u001b[39;00m),\n\u001b[0;32m   1670\u001b[0m )\n\u001b[0;32m   1671\u001b[0m \u001b[38;5;28;01massert\u001b[39;00m \u001b[38;5;28mself\u001b[39m\u001b[38;5;241m.\u001b[39mhandles \u001b[38;5;129;01mis\u001b[39;00m \u001b[38;5;129;01mnot\u001b[39;00m \u001b[38;5;28;01mNone\u001b[39;00m\n\u001b[0;32m   1672\u001b[0m f \u001b[38;5;241m=\u001b[39m \u001b[38;5;28mself\u001b[39m\u001b[38;5;241m.\u001b[39mhandles\u001b[38;5;241m.\u001b[39mhandle\n",
      "File \u001b[1;32m~\\anaconda3\\Lib\\site-packages\\pandas\\io\\common.py:859\u001b[0m, in \u001b[0;36mget_handle\u001b[1;34m(path_or_buf, mode, encoding, compression, memory_map, is_text, errors, storage_options)\u001b[0m\n\u001b[0;32m    854\u001b[0m \u001b[38;5;28;01melif\u001b[39;00m \u001b[38;5;28misinstance\u001b[39m(handle, \u001b[38;5;28mstr\u001b[39m):\n\u001b[0;32m    855\u001b[0m     \u001b[38;5;66;03m# Check whether the filename is to be opened in binary mode.\u001b[39;00m\n\u001b[0;32m    856\u001b[0m     \u001b[38;5;66;03m# Binary mode does not support 'encoding' and 'newline'.\u001b[39;00m\n\u001b[0;32m    857\u001b[0m     \u001b[38;5;28;01mif\u001b[39;00m ioargs\u001b[38;5;241m.\u001b[39mencoding \u001b[38;5;129;01mand\u001b[39;00m \u001b[38;5;124m\"\u001b[39m\u001b[38;5;124mb\u001b[39m\u001b[38;5;124m\"\u001b[39m \u001b[38;5;129;01mnot\u001b[39;00m \u001b[38;5;129;01min\u001b[39;00m ioargs\u001b[38;5;241m.\u001b[39mmode:\n\u001b[0;32m    858\u001b[0m         \u001b[38;5;66;03m# Encoding\u001b[39;00m\n\u001b[1;32m--> 859\u001b[0m         handle \u001b[38;5;241m=\u001b[39m \u001b[38;5;28mopen\u001b[39m(\n\u001b[0;32m    860\u001b[0m             handle,\n\u001b[0;32m    861\u001b[0m             ioargs\u001b[38;5;241m.\u001b[39mmode,\n\u001b[0;32m    862\u001b[0m             encoding\u001b[38;5;241m=\u001b[39mioargs\u001b[38;5;241m.\u001b[39mencoding,\n\u001b[0;32m    863\u001b[0m             errors\u001b[38;5;241m=\u001b[39merrors,\n\u001b[0;32m    864\u001b[0m             newline\u001b[38;5;241m=\u001b[39m\u001b[38;5;124m\"\u001b[39m\u001b[38;5;124m\"\u001b[39m,\n\u001b[0;32m    865\u001b[0m         )\n\u001b[0;32m    866\u001b[0m     \u001b[38;5;28;01melse\u001b[39;00m:\n\u001b[0;32m    867\u001b[0m         \u001b[38;5;66;03m# Binary mode\u001b[39;00m\n\u001b[0;32m    868\u001b[0m         handle \u001b[38;5;241m=\u001b[39m \u001b[38;5;28mopen\u001b[39m(handle, ioargs\u001b[38;5;241m.\u001b[39mmode)\n",
      "\u001b[1;31mFileNotFoundError\u001b[0m: [Errno 2] No such file or directory: 'customers.csv'"
     ]
    }
   ],
   "source": [
    "customers = pd.read_csv('customers.csv')\n",
    "products = pd.read_csv('products.csv')\n",
    "transactions = pd.read_csv('transactions.csv')                "
   ]
  },
  {
   "cell_type": "markdown",
   "id": "0590d500",
   "metadata": {},
   "source": [
    "# 2. Analyses exploratoire des fichiers"
   ]
  },
  {
   "cell_type": "markdown",
   "id": "f977ea99",
   "metadata": {},
   "source": [
    "## 2.1 Analyse exploratoire du fichier customers"
   ]
  },
  {
   "cell_type": "markdown",
   "id": "12ffdd67",
   "metadata": {},
   "source": [
    "### Découverte du Data frame"
   ]
  },
  {
   "cell_type": "code",
   "execution_count": null,
   "id": "5b7ef840",
   "metadata": {},
   "outputs": [],
   "source": [
    "# Affichage des 5 premières lignes\n",
    "customers.head()"
   ]
  },
  {
   "cell_type": "code",
   "execution_count": null,
   "id": "d5dfe6b4",
   "metadata": {},
   "outputs": [],
   "source": [
    "# Affichage des dimensions du Df et des types des colonnes\n",
    "customers.info()"
   ]
  },
  {
   "cell_type": "code",
   "execution_count": null,
   "id": "65fe92d0",
   "metadata": {},
   "outputs": [],
   "source": [
    "# Affichage des statistiques\n",
    "customers.describe(include='all')"
   ]
  },
  {
   "cell_type": "code",
   "execution_count": null,
   "id": "f745fe49",
   "metadata": {},
   "outputs": [],
   "source": [
    "#Valeurs manquantes\n",
    "\n",
    "customers.isnull().sum()"
   ]
  },
  {
   "cell_type": "markdown",
   "id": "efd39a82",
   "metadata": {},
   "source": [
    "Le df se compose de 8623 lignes et 3 colonnes, il n'y a pas de valeurs manquantes, et la colonne client_id ne contient pas de doublons "
   ]
  },
  {
   "cell_type": "markdown",
   "id": "bd265e18",
   "metadata": {},
   "source": [
    "### Distribution de la variable Birth"
   ]
  },
  {
   "cell_type": "code",
   "execution_count": null,
   "id": "731637da",
   "metadata": {},
   "outputs": [],
   "source": [
    "customers.boxplot(column=\"birth\", vert=False)\n",
    "plt.show()"
   ]
  },
  {
   "cell_type": "markdown",
   "id": "62c0d330",
   "metadata": {},
   "source": [
    "Les valeurs de la colonne 'birth' ne semblent pas contenir de valeurs aberrantes"
   ]
  },
  {
   "cell_type": "markdown",
   "id": "5e1b7506",
   "metadata": {},
   "source": [
    "## 2.2 Analyse exploratoire du fichier products"
   ]
  },
  {
   "cell_type": "markdown",
   "id": "df8e412a",
   "metadata": {},
   "source": [
    "### Découverte du Data frame"
   ]
  },
  {
   "cell_type": "code",
   "execution_count": null,
   "id": "a75a841f",
   "metadata": {},
   "outputs": [],
   "source": [
    "products.head()"
   ]
  },
  {
   "cell_type": "code",
   "execution_count": null,
   "id": "8c68392e",
   "metadata": {},
   "outputs": [],
   "source": [
    "products.info()"
   ]
  },
  {
   "cell_type": "code",
   "execution_count": null,
   "id": "1fde79ad",
   "metadata": {},
   "outputs": [],
   "source": [
    "products.describe(include='all')"
   ]
  },
  {
   "cell_type": "code",
   "execution_count": null,
   "id": "46685b12",
   "metadata": {},
   "outputs": [],
   "source": [
    "products.isnull().sum()"
   ]
  },
  {
   "cell_type": "markdown",
   "id": "a767db24",
   "metadata": {},
   "source": [
    "### 2.2.2 Traitement de la colonne price"
   ]
  },
  {
   "cell_type": "code",
   "execution_count": null,
   "id": "b89b9b59",
   "metadata": {},
   "outputs": [],
   "source": [
    "# Visualisation de la distribution de la variable price\n",
    "products.boxplot(column=\"price\", vert=False)\n",
    "plt.show()"
   ]
  },
  {
   "cell_type": "markdown",
   "id": "3a97b6aa",
   "metadata": {},
   "source": [
    "Les valeurs extrêmes sont cohérentes avec le prix de livres rares ou d'édition de luxe.\n",
    "On a constaté cependant la présence de valeurs négatives dans les prix ce qui nécessite une exploration plus approfondie"
   ]
  },
  {
   "cell_type": "code",
   "execution_count": null,
   "id": "19d66fef",
   "metadata": {},
   "outputs": [],
   "source": [
    "products.loc[products['price']<0,:]"
   ]
  },
  {
   "cell_type": "markdown",
   "id": "58b59610",
   "metadata": {},
   "source": [
    "On soupçonne une erreure de saisie que l'on corrige"
   ]
  },
  {
   "cell_type": "code",
   "execution_count": null,
   "id": "b79c78f2",
   "metadata": {},
   "outputs": [],
   "source": [
    "products.loc[products['price']<0,'price']= 1"
   ]
  },
  {
   "cell_type": "code",
   "execution_count": null,
   "id": "0a32b162",
   "metadata": {},
   "outputs": [],
   "source": [
    "products.loc[products['id_prod']=='T_0',:]"
   ]
  },
  {
   "cell_type": "markdown",
   "id": "b5f9fd30",
   "metadata": {},
   "source": [
    "## 2.3 Analyse exploratoire du fichier transaction"
   ]
  },
  {
   "cell_type": "markdown",
   "id": "f5aa339a",
   "metadata": {},
   "source": [
    "### Découverte du Data Frame"
   ]
  },
  {
   "cell_type": "code",
   "execution_count": null,
   "id": "1d1a6e77",
   "metadata": {},
   "outputs": [],
   "source": [
    "transactions.head()"
   ]
  },
  {
   "cell_type": "code",
   "execution_count": null,
   "id": "130e0e73",
   "metadata": {},
   "outputs": [],
   "source": [
    "transactions.info()"
   ]
  },
  {
   "cell_type": "code",
   "execution_count": null,
   "id": "c7a75fbf",
   "metadata": {},
   "outputs": [],
   "source": [
    "transactions.describe()"
   ]
  },
  {
   "cell_type": "code",
   "execution_count": null,
   "id": "b7d5221a",
   "metadata": {},
   "outputs": [],
   "source": [
    "transactions.isnull().sum()"
   ]
  },
  {
   "cell_type": "markdown",
   "id": "58975df6",
   "metadata": {},
   "source": [
    "### Traitement de la colonne date"
   ]
  },
  {
   "cell_type": "code",
   "execution_count": null,
   "id": "7858ca96",
   "metadata": {},
   "outputs": [],
   "source": [
    "transactions.loc[transactions['date'].str.contains('test'),:]"
   ]
  },
  {
   "cell_type": "markdown",
   "id": "c64379dd",
   "metadata": {},
   "source": [
    "Les dates commençant par test semblent correspondre à des transactions fictives qui ont servi à tester le site. De même les id_prod, session_id et client_id sont des identifiants tests et nous pouvont supprimer ces lignes."
   ]
  },
  {
   "cell_type": "code",
   "execution_count": null,
   "id": "e95f4d20",
   "metadata": {},
   "outputs": [],
   "source": [
    "transactions = transactions.loc[~transactions['date'].str.contains('test')]"
   ]
  },
  {
   "cell_type": "code",
   "execution_count": null,
   "id": "705ae8c7",
   "metadata": {},
   "outputs": [],
   "source": [
    "transactions"
   ]
  },
  {
   "cell_type": "code",
   "execution_count": null,
   "id": "2783c37e",
   "metadata": {},
   "outputs": [],
   "source": [
    "transactions['date'] = pd.to_datetime(transactions['date'], errors='coerce')"
   ]
  },
  {
   "cell_type": "code",
   "execution_count": null,
   "id": "ab80ebd8",
   "metadata": {},
   "outputs": [],
   "source": [
    "transactions.info()"
   ]
  },
  {
   "cell_type": "markdown",
   "id": "6541fb45",
   "metadata": {},
   "source": [
    "# 3. Agrégation des données"
   ]
  },
  {
   "cell_type": "markdown",
   "id": "1be05f80",
   "metadata": {},
   "source": [
    "## 3.1 Jointure des Data frame customers et transaction"
   ]
  },
  {
   "cell_type": "code",
   "execution_count": null,
   "id": "d0bae589",
   "metadata": {},
   "outputs": [],
   "source": [
    "# Jointure\n",
    "Jointure_cust_trans = pd.merge(customers, transactions, on='client_id', how= 'outer')"
   ]
  },
  {
   "cell_type": "code",
   "execution_count": null,
   "id": "8718578b",
   "metadata": {},
   "outputs": [],
   "source": [
    "# Vérification\n",
    "Jointure_cust_trans.shape"
   ]
  },
  {
   "cell_type": "markdown",
   "id": "34f2e325",
   "metadata": {},
   "source": [
    "## 3.2 Jointure avec le Data frame products"
   ]
  },
  {
   "cell_type": "code",
   "execution_count": null,
   "id": "3f46ac55",
   "metadata": {},
   "outputs": [],
   "source": [
    "data = pd.merge(Jointure_cust_trans, products, how='outer', on='id_prod' )"
   ]
  },
  {
   "cell_type": "code",
   "execution_count": null,
   "id": "ab11b67b",
   "metadata": {},
   "outputs": [],
   "source": [
    "data.shape"
   ]
  },
  {
   "cell_type": "code",
   "execution_count": null,
   "id": "1ffcd9ad",
   "metadata": {},
   "outputs": [],
   "source": [
    "data.head()"
   ]
  },
  {
   "cell_type": "code",
   "execution_count": null,
   "id": "7bbc40bd",
   "metadata": {},
   "outputs": [],
   "source": [
    "data.info()"
   ]
  },
  {
   "cell_type": "markdown",
   "id": "1f1cbc4d",
   "metadata": {},
   "source": [
    "## 3.3 Traitement des erreurs dans le nouveau Data Frame"
   ]
  },
  {
   "cell_type": "code",
   "execution_count": null,
   "id": "262dceff",
   "metadata": {},
   "outputs": [],
   "source": [
    "resultat = pd.DataFrame({\n",
    "    'Valeurs manquantes': data.isnull().sum(), \n",
    "    ' Taux valeurs manquantes': data.isnull().mean()\n",
    "})\n",
    "resultat"
   ]
  },
  {
   "cell_type": "markdown",
   "id": "c9d7505d",
   "metadata": {},
   "source": [
    "Les taux de valeurs manquantes sont faibles mais nous allons les traiter cas par cas"
   ]
  },
  {
   "cell_type": "markdown",
   "id": "5632faaf",
   "metadata": {},
   "source": [
    "### Cas des Na de la colonne 'price' et 'categ'"
   ]
  },
  {
   "cell_type": "code",
   "execution_count": null,
   "id": "1531aed5",
   "metadata": {},
   "outputs": [],
   "source": [
    "price_na= data.loc[data['price'].isna(),:]\n",
    "price_na"
   ]
  },
  {
   "cell_type": "code",
   "execution_count": null,
   "id": "504cb110",
   "metadata": {},
   "outputs": [],
   "source": [
    "price_na['id_prod'].value_counts()"
   ]
  },
  {
   "cell_type": "code",
   "execution_count": null,
   "id": "85ce9531",
   "metadata": {},
   "outputs": [],
   "source": [
    "data.loc[data['id_prod']=='0_2245',:]"
   ]
  },
  {
   "cell_type": "markdown",
   "id": "577804a9",
   "metadata": {},
   "source": [
    "On constate que les Na sur le prix et la catégorie concerne la référence '0_2245' dans 221 cas, sans doute à cause d'un oubli ou d'une erreur de saisie. Grâce à l'identifiant commençant par 0 nous savons que categ=0, pour implémenter le prix nous appliquons donc la médiane des produits de la catégorie '0'."
   ]
  },
  {
   "cell_type": "code",
   "execution_count": null,
   "id": "cf183906",
   "metadata": {},
   "outputs": [],
   "source": [
    "categ0_median_price=data.loc[data['categ']==0,'price'].median()\n",
    "categ0_median_price"
   ]
  },
  {
   "cell_type": "code",
   "execution_count": null,
   "id": "5f996490",
   "metadata": {},
   "outputs": [],
   "source": [
    "data.loc[data['id_prod']=='0_2245',['price','categ']]=(categ0_median_price,0)\n",
    "data.loc[data['id_prod']=='0_2245',:]"
   ]
  },
  {
   "cell_type": "markdown",
   "id": "b35a516b",
   "metadata": {},
   "source": [
    "Il reste à traiter les 23 lignes ayant des Nan sur 'id_prod', 'session_id' et Nat sur 'date'. Il s'agit de cas où le client a un compte mais n'a pour l'heure passé aucune commande. Parmi ces 23 cas, 2 sont les clients fictifs utilisés pour les tests identifiés lors du traitement des transactions.\n",
    "Le faible échantillon ne permet pas de réaliser une analyse pertinente de ces cas et nous faisons le choix de les supprimer du Df"
   ]
  },
  {
   "cell_type": "code",
   "execution_count": null,
   "id": "6270c7ee",
   "metadata": {},
   "outputs": [],
   "source": [
    "data= data.loc[~data[['id_prod','session_id','price','categ']].isna().all(axis=1),:]"
   ]
  },
  {
   "cell_type": "markdown",
   "id": "e2d67718",
   "metadata": {},
   "source": [
    "### Cas des Na des colonnes 'client_id', 'sexe', 'birth'"
   ]
  },
  {
   "cell_type": "code",
   "execution_count": null,
   "id": "7b68e7aa",
   "metadata": {},
   "outputs": [],
   "source": [
    "client_na= data.loc[data['client_id'].isna(),:]\n",
    "client_na"
   ]
  },
  {
   "cell_type": "markdown",
   "id": "6c0370ba",
   "metadata": {},
   "source": [
    "Ces valeurs manquantes correspondent aux 21 produits (en excluant T_0 qui a servi pour les tests) n'ayant enregistré aucune vente. Nous les excluons du Df principal et les stockons dans un Df spécifique pour se garder la possibilité d'analyser leur cas"
   ]
  },
  {
   "cell_type": "code",
   "execution_count": null,
   "id": "877d3e80",
   "metadata": {},
   "outputs": [],
   "source": [
    "# Stockage des lignes dans un DataFrame spécifique pour les produits sans vente\n",
    "produits_sansvente = client_na[['id_prod','price','categ']]"
   ]
  },
  {
   "cell_type": "code",
   "execution_count": null,
   "id": "5c6c6dda",
   "metadata": {},
   "outputs": [],
   "source": [
    "# Exclusion des produits sans vente du Df d'origine\n",
    "data= data.loc[~data['client_id'].isna(),:]"
   ]
  },
  {
   "cell_type": "code",
   "execution_count": null,
   "id": "7606674b",
   "metadata": {},
   "outputs": [],
   "source": [
    "# Vérification\n",
    "data.isnull().sum()"
   ]
  },
  {
   "cell_type": "code",
   "execution_count": null,
   "id": "eaf80d98",
   "metadata": {},
   "outputs": [],
   "source": [
    "# Maintenant que les Nan sont traités nous pouvons convertir les colonnes 'birth' et 'categ' en integer\n",
    "data['birth']= data['birth'].astype(int)\n",
    "data['categ']= data['categ'].astype(int)"
   ]
  },
  {
   "cell_type": "code",
   "execution_count": null,
   "id": "46f73fa5",
   "metadata": {},
   "outputs": [],
   "source": [
    "# Les dates sont passées en format yyyy-mm-dd\n",
    "data['date'] = data['date'].dt.date "
   ]
  },
  {
   "cell_type": "code",
   "execution_count": null,
   "id": "14b4087f",
   "metadata": {},
   "outputs": [],
   "source": [
    "# On les repasse en format date\n",
    "data['date'] = pd.to_datetime(data['date'])"
   ]
  },
  {
   "cell_type": "code",
   "execution_count": null,
   "id": "7fb31a1e",
   "metadata": {},
   "outputs": [],
   "source": [
    "# Vérification\n",
    "data.info()"
   ]
  },
  {
   "cell_type": "code",
   "execution_count": null,
   "id": "9e3ded42",
   "metadata": {},
   "outputs": [],
   "source": [
    "# Copie du Df pour les analyses\n",
    "df=data.copy()"
   ]
  },
  {
   "cell_type": "code",
   "execution_count": null,
   "id": "a84a5c02",
   "metadata": {},
   "outputs": [],
   "source": [
    "# Définition de la colonne 'date' comme index\n",
    "df.set_index('date', inplace=True)"
   ]
  },
  {
   "cell_type": "code",
   "execution_count": null,
   "id": "c86d833e",
   "metadata": {},
   "outputs": [],
   "source": [
    "df.index"
   ]
  },
  {
   "cell_type": "markdown",
   "id": "67547eaf",
   "metadata": {},
   "source": [
    "# 4. Analyses"
   ]
  },
  {
   "cell_type": "markdown",
   "id": "abc29d77",
   "metadata": {},
   "source": [
    "## 4.1 Analyse sur le chiffre d'affaires"
   ]
  },
  {
   "cell_type": "code",
   "execution_count": null,
   "id": "69494a17",
   "metadata": {},
   "outputs": [],
   "source": [
    "# Calcul du Ca total et nombre de ventes totales\n",
    "ca_total = round(df['price'].sum(),2)\n",
    "vente_total = df['price'].count()\n",
    "print(\"le chiffre d'affaire total est de\",ca_total,\"€, pour\",vente_total, \"ventes\")"
   ]
  },
  {
   "cell_type": "code",
   "execution_count": null,
   "id": "94241d77",
   "metadata": {},
   "outputs": [],
   "source": [
    "# Calcul du Ca annuel et nombre de ventes \n",
    "yearly_ca = df['price'].resample('Y').sum()\n",
    "yearly_sales = df['price'].resample('Y').count()\n",
    "yearly_df= pd.DataFrame({\n",
    "    'ca': yearly_ca,\n",
    "    'sales': yearly_sales\n",
    "})\n",
    "yearly_df.index = yearly_df.index.year\n",
    "yearly_df"
   ]
  },
  {
   "cell_type": "markdown",
   "id": "ac1d0479",
   "metadata": {},
   "source": [
    "La meilleure année aussi bien pour le chiffre d'affaire que le nombres de ventes est l'année 2022. A noter que nous avons les données pour 2023 que pour les deux premiers mois, tandis que l'année 2021 débute en mars. L'analyse de ces deux indicateurs sera donc plus appropriée à l'échelle du mois que de l'année."
   ]
  },
  {
   "cell_type": "code",
   "execution_count": null,
   "id": "14252980",
   "metadata": {},
   "outputs": [],
   "source": [
    "# Calcul du Ca mensuel et nombre de ventes \n",
    "monthly_ca = df['price'].resample('M').sum()\n",
    "monthly_sales = df['price'].resample('M').count()\n",
    "monthly_df= pd.DataFrame({\n",
    "    'ca': monthly_ca,\n",
    "    'sales': monthly_sales\n",
    "})\n",
    "monthly_df.index = monthly_df.index.to_period('M')\n"
   ]
  },
  {
   "cell_type": "code",
   "execution_count": null,
   "id": "4bc1eec0",
   "metadata": {},
   "outputs": [],
   "source": [
    "# Traçage du graphique ca par mois\n",
    "monthly_ca.plot()\n",
    "plt.show()"
   ]
  },
  {
   "cell_type": "code",
   "execution_count": null,
   "id": "1db830e2",
   "metadata": {},
   "outputs": [],
   "source": [
    "# Traçage du graphique nombre de ventes par mois\n",
    "monthly_sales.plot(color=\"red\")\n",
    "plt.show()"
   ]
  },
  {
   "cell_type": "markdown",
   "id": "6bc51b36",
   "metadata": {},
   "source": [
    "Pour les ventes comme pour le Ca, on constate une chute importante pour le mois d'octobre 2021 qu'il va nous falloir investiguer"
   ]
  },
  {
   "cell_type": "markdown",
   "id": "00bee416",
   "metadata": {},
   "source": [
    "### Chiffre d'affaires par catégorie"
   ]
  },
  {
   "cell_type": "code",
   "execution_count": 6,
   "id": "6f8a4598",
   "metadata": {},
   "outputs": [
    {
     "ename": "NameError",
     "evalue": "name 'df' is not defined",
     "output_type": "error",
     "traceback": [
      "\u001b[1;31m---------------------------------------------------------------------------\u001b[0m",
      "\u001b[1;31mNameError\u001b[0m                                 Traceback (most recent call last)",
      "Cell \u001b[1;32mIn[6], line 2\u001b[0m\n\u001b[0;32m      1\u001b[0m \u001b[38;5;66;03m# Calcul du chiffre d'affaires mensuel par catégorie\u001b[39;00m\n\u001b[1;32m----> 2\u001b[0m monthly_ca_by_categ \u001b[38;5;241m=\u001b[39m df\u001b[38;5;241m.\u001b[39mgroupby([\u001b[38;5;124m'\u001b[39m\u001b[38;5;124mcateg\u001b[39m\u001b[38;5;124m'\u001b[39m, pd\u001b[38;5;241m.\u001b[39mGrouper(freq\u001b[38;5;241m=\u001b[39m\u001b[38;5;124m'\u001b[39m\u001b[38;5;124mM\u001b[39m\u001b[38;5;124m'\u001b[39m)])[\u001b[38;5;124m'\u001b[39m\u001b[38;5;124mprice\u001b[39m\u001b[38;5;124m'\u001b[39m]\u001b[38;5;241m.\u001b[39msum()\u001b[38;5;241m.\u001b[39munstack(level\u001b[38;5;241m=\u001b[39m\u001b[38;5;241m0\u001b[39m)\n",
      "\u001b[1;31mNameError\u001b[0m: name 'df' is not defined"
     ]
    }
   ],
   "source": [
    "# Calcul du chiffre d'affaires mensuel par catégorie\n",
    "monthly_ca_by_categ = df.groupby(['categ', pd.Grouper(freq='M')])['price'].sum().unstack(level=0)"
   ]
  },
  {
   "cell_type": "code",
   "execution_count": null,
   "id": "96b59f19",
   "metadata": {},
   "outputs": [],
   "source": [
    "# Tracer les courbes\n",
    "plt.figure(figsize=(10, 6))\n",
    "\n",
    "# Traçage des courbes pour chaque catégorie\n",
    "for column in monthly_ca_by_categ.columns:\n",
    "    monthly_ca_by_categ[column].plot(label=f'Catégorie {column}')\n",
    "\n",
    "# Ajout des labels et de la légende \n",
    "plt.title('Chiffre d\\'Affaires Mensuel par Catégorie')\n",
    "plt.xlabel('Date')\n",
    "plt.ylabel('Chiffre d\\'Affaires')\n",
    "plt.legend()\n",
    "plt.tight_layout()  \n",
    "plt.show()"
   ]
  },
  {
   "cell_type": "markdown",
   "id": "0e872ca3",
   "metadata": {},
   "source": [
    "On constate que le décroché de octobre 2021 est principalement dut à une chute du Ca de la catégorie 1, avant une remontée encore plus importante le mois suivant.\n",
    "Nous allons donc étudier de plus près ce mois d'octobre 2021"
   ]
  },
  {
   "cell_type": "code",
   "execution_count": null,
   "id": "760a5f29",
   "metadata": {},
   "outputs": [],
   "source": [
    "# Calcul des ventes journalière par catégorie pour la periode de octobre 2021\n",
    "# Filtre des données pour la période de octobre 2021\n",
    "start_date = '2021-10-01'\n",
    "end_date = '2021-10-31'\n",
    "filtered_df = df.loc[start_date:end_date]\n",
    "dayly_sales_by_categ = filtered_df.groupby(['categ', pd.Grouper(freq='D')])['price'].count().unstack(level=0)\n",
    "\n",
    "# Tracer les courbes\n",
    "plt.figure(figsize=(10, 6))\n",
    "\n",
    "# Traçage des courbes pour chaque catégorie\n",
    "for column in dayly_sales_by_categ.columns:\n",
    "    dayly_sales_by_categ[column].plot(label=f'Catégorie {column}')\n",
    "\n",
    "# Ajout des labels et de la légende \n",
    "plt.title('Nombre ventes par Catégorie')\n",
    "plt.xlabel('Date')\n",
    "plt.ylabel('Nombre ventes')\n",
    "plt.legend()\n",
    "plt.tight_layout()  \n",
    "plt.show()"
   ]
  },
  {
   "cell_type": "markdown",
   "id": "fe10566c",
   "metadata": {},
   "source": [
    "On constate qu'aucun livre de la catégorie 1 n'a été vendu entre du 1er au 27 Octobre. On soupçonne une interuption dans le pipeline de données.\n",
    "Il est nécessaire de contacter les responsables des ventes, les équipes techniques ou les administrateurs de systèmes pour confirmer s'ils ont connaissance de tout problème durant cette période.\n",
    "Nous faisons le choix d'implémenter ces données manquantes pour ne pas fausser nos analyses"
   ]
  },
  {
   "cell_type": "markdown",
   "id": "827388d5",
   "metadata": {},
   "source": [
    "### Imputation des valeurs manquantes avec iterative imputer"
   ]
  },
  {
   "cell_type": "code",
   "execution_count": null,
   "id": "15482f59",
   "metadata": {},
   "outputs": [],
   "source": [
    "# Calcul du chiffre d'affaires journalier par catégorie\n",
    "dayly_ca_by_categ = df.groupby(['categ', pd.Grouper(freq='D')])['price'].sum().unstack(level=0)\n",
    "dayly_ca_by_categ"
   ]
  },
  {
   "cell_type": "code",
   "execution_count": null,
   "id": "a46657a2",
   "metadata": {},
   "outputs": [],
   "source": [
    "# Création d'une copie des données pour l'imputation\n",
    "dayly_ca_by_categ_imputed = dayly_ca_by_categ.copy()\n",
    "\n",
    "# Liste des estimateurs à tester dans l'imputer\n",
    "estimators = [\n",
    "    ('DecisionTree', DecisionTreeRegressor(max_depth=10)),\n",
    "    ('LinearRegression', LinearRegression()),\n",
    "    ('RandomForest', RandomForestRegressor(n_estimators=10, max_depth=10, random_state=42))\n",
    "]\n",
    "\n",
    "# Définir le nombre de splits pour la validation croisée temporelle\n",
    "tscv = TimeSeriesSplit(n_splits=5)\n",
    "\n",
    "# Imputation simple des valeurs manquantes dans la colonne '1'\n",
    "simple_imputer = SimpleImputer(strategy='median')\n",
    "y = simple_imputer.fit_transform(dayly_ca_by_categ_imputed[[1]]).ravel()\n",
    "\n",
    "# Boucle pour tester chaque estimateur\n",
    "for name, estimator in estimators:\n",
    "    # Créer une pipeline avec l'IterativeImputer et le modèle final\n",
    "    pipeline = Pipeline(steps=[\n",
    "        ('imputer', IterativeImputer(estimator=estimator, max_iter=50, tol=1e-4, initial_strategy='median', random_state=0)),\n",
    "        ('model', LinearRegression())  \n",
    "    ])\n",
    "    \n",
    "    # Effectuer la validation croisée et calculer la performance\n",
    "    X = dayly_ca_by_categ_imputed.values\n",
    "    \n",
    "    scores = cross_val_score(pipeline, X, y, scoring='neg_mean_squared_error', cv=tscv)\n",
    "    mean_score = np.mean(scores)\n",
    "    std_score = np.std(scores)\n",
    "    \n",
    "    print(f\"{name} Imputer: Mean MSE = {-mean_score:.4f}, Std MSE = {std_score:.4f}\")"
   ]
  },
  {
   "cell_type": "code",
   "execution_count": null,
   "id": "af16f9f5",
   "metadata": {},
   "outputs": [],
   "source": [
    "# Initialisation de l'IterativeImputer\n",
    "imputer = IterativeImputer(\n",
    "    estimator=LinearRegression(), \n",
    "    tol=1e-4,\n",
    "    initial_strategy='median',\n",
    "    imputation_order='ascending',\n",
    "    min_value=0,\n",
    "    random_state=0\n",
    ")\n",
    "\n",
    "# Application de l'imputation sur les colonnes de catégories\n",
    "df_imputed = dayly_ca_by_categ.copy()\n",
    "df_imputed[:] = imputer.fit_transform(dayly_ca_by_categ)\n",
    "\n",
    "# Afficher les données après imputation pour la période du 2 au 27 octobre 2021\n",
    "print(\"\\nDonnées après imputation :\")\n",
    "print(df_imputed.loc['2021-10-02':'2021-10-27'])"
   ]
  },
  {
   "cell_type": "code",
   "execution_count": null,
   "id": "83af9870",
   "metadata": {},
   "outputs": [],
   "source": [
    " # Resampler les données par mois et calculer la somme du chiffre d'affaires par catégorie\n",
    "ca_par_mois = df_imputed.resample('M').sum()"
   ]
  },
  {
   "cell_type": "markdown",
   "id": "aabe4367",
   "metadata": {},
   "source": [
    "### Comparaison de la courbe d'origine et celle du Df imputé"
   ]
  },
  {
   "cell_type": "code",
   "execution_count": null,
   "id": "c602f025",
   "metadata": {},
   "outputs": [],
   "source": [
    "# Traçage des courbes avec subplots\n",
    "fig, ax = plt.subplots(2, 1, figsize=(10, 6), sharex=True)\n",
    "\n",
    "# Premier subplot : Chiffre d'affaires mensuel par catégorie\n",
    "monthly_ca_by_categ.plot(ax=ax[0])\n",
    "\n",
    "# Deuxième subplot : Chiffre d'affaires imputé \n",
    "ca_par_mois.plot(ax=ax[1])\n",
    "\n",
    "ax[0].set_title('Chiffre d\\'Affaires par mois')\n",
    "ax[1].set_xlabel('Date')\n",
    "\n",
    "\n",
    "# Placer la légende sur le graphique\n",
    "ax[0].legend(title='Catégorie', bbox_to_anchor=(1, 0), loc='lower right')\n",
    "ax[1].legend(title='Catégorie', bbox_to_anchor=(1, 0), loc='lower right')\n",
    "plt.show()"
   ]
  },
  {
   "cell_type": "markdown",
   "id": "46b2fead",
   "metadata": {},
   "source": [
    "### Moyenne mobile et ewm avec le Df imputé"
   ]
  },
  {
   "cell_type": "code",
   "execution_count": null,
   "id": "18b9947d",
   "metadata": {},
   "outputs": [],
   "source": [
    "# Calcul du CA Total Mensuel\n",
    "monthly_total_ca = df_imputed.resample('M').sum().sum(axis=1)"
   ]
  },
  {
   "cell_type": "code",
   "execution_count": null,
   "id": "839cf8c5",
   "metadata": {},
   "outputs": [],
   "source": [
    "# Exclusion de février et mars 2023\n",
    "# Conversion de l'index en DataFrame temporaire pour filtrage\n",
    "dates = pd.DataFrame(index=monthly_total_ca.index)\n",
    "dates['Year'] = dates.index.year\n",
    "dates['Month'] = dates.index.month\n",
    "\n",
    "# Filtre pour exclure février et mars 2023\n",
    "filtered_dates = dates[~((dates['Year'] == 2023) & (dates['Month'].isin([2, 3])))]\n",
    "filtered_index = filtered_dates.index\n",
    "\n",
    "# Application du filtrage aux données\n",
    "monthly_total_ca = monthly_total_ca[filtered_index]"
   ]
  },
  {
   "cell_type": "code",
   "execution_count": null,
   "id": "2645980c",
   "metadata": {},
   "outputs": [],
   "source": [
    "\n",
    "# Tracer les courbes\n",
    "plt.figure(figsize=(12, 6))\n",
    "\n",
    "# Tracer le CA Total Mensuel\n",
    "plt.plot(monthly_total_ca.index, monthly_total_ca, label='CA Total Mensuel', linestyle='-')\n",
    "\n",
    "# Tracer la Moyenne Mobile\n",
    "monthly_total_ca.rolling(window=5, center=True).mean().plot(label='Mobile average', lw=3, ls='-',c='g', alpha=0.8)\n",
    "# Tracer l'Exponential Weighted Moving Average (EWMA)\n",
    "monthly_total_ca.ewm(alpha=0.2).mean().plot(label='ewm (0.2)', lw=3, ls='--', alpha=0.8)\n",
    "\n",
    "\n",
    "# Ajouter des labels et la légende\n",
    "plt.title('Chiffre d\\'Affaires Total Mensuel avec Moyenne Mobile et EWMA')\n",
    "plt.xlabel('Date')\n",
    "plt.ylabel('Chiffre d\\'Affaires (€)')\n",
    "plt.legend()\n",
    "plt.tight_layout()\n",
    "plt.grid(True)\n",
    "# Sauvegarde du graphique\n",
    "plt.savefig(\"Ca total moyenne mobile.png\")\n",
    "\n",
    "\n",
    "plt.show()"
   ]
  },
  {
   "cell_type": "code",
   "execution_count": null,
   "id": "2cf32bcf",
   "metadata": {},
   "outputs": [],
   "source": [
    "# Traçage du lissage ewm avec différents alpha\n",
    "plt.figure(figsize=(10, 6))\n",
    "plt.plot(monthly_total_ca.index, monthly_total_ca, label='CA Total Mensuel', linestyle='-')\n",
    "for i in np.arange(0.2, 1, 0.2):\n",
    "    monthly_total_ca.ewm(alpha=i).mean().plot(label=f'ewm {i}', ls='--', alpha=0.8)\n",
    "    plt.legend()\n",
    "plt.grid(True)\n",
    "plt.show()\n"
   ]
  },
  {
   "cell_type": "markdown",
   "id": "c2caa3c2",
   "metadata": {},
   "source": [
    "## 4.2 Analyse des ventes"
   ]
  },
  {
   "cell_type": "markdown",
   "id": "bd206cc4",
   "metadata": {},
   "source": [
    "### Imputation des valeurs manquantes sur le nombre de ventes"
   ]
  },
  {
   "cell_type": "code",
   "execution_count": null,
   "id": "82c26c93",
   "metadata": {},
   "outputs": [],
   "source": [
    "# Calcul du nombre de vente journalier par catégorie\n",
    "dayly_sales_by_categ = df.groupby(['categ', pd.Grouper(freq='D')])['price'].count().unstack(level=0)\n",
    "dayly_sales_by_categ"
   ]
  },
  {
   "cell_type": "code",
   "execution_count": null,
   "id": "5a1dc334",
   "metadata": {},
   "outputs": [],
   "source": [
    "# Création d'une copie des données pour l'imputation\n",
    "dayly_sales_by_categ_imputed = dayly_sales_by_categ.copy()\n",
    "\n",
    "# Liste des estimateurs à tester dans l'imputer\n",
    "estimators = [\n",
    "    ('DecisionTree', DecisionTreeRegressor(max_depth=10)),\n",
    "    ('LinearRegression', LinearRegression()),\n",
    "    ('RandomForest', RandomForestRegressor(n_estimators=10, max_depth=10, random_state=42))\n",
    "]\n",
    "\n",
    "# Définir le nombre de splits pour la validation croisée temporelle\n",
    "tscv = TimeSeriesSplit(n_splits=5)\n",
    "\n",
    "# Imputation simple des valeurs manquantes dans la colonne '1'\n",
    "simple_imputer = SimpleImputer(strategy='median')\n",
    "y = simple_imputer.fit_transform(dayly_sales_by_categ_imputed[[1]]).ravel()\n",
    "\n",
    "# Boucle pour tester chaque estimateur\n",
    "for name, estimator in estimators:\n",
    "    # Créer une pipeline avec l'IterativeImputer et le modèle final\n",
    "    pipeline = Pipeline(steps=[\n",
    "        ('imputer', IterativeImputer(estimator=estimator, max_iter=50, tol=1e-4, initial_strategy='median', random_state=0)),\n",
    "        ('model', LinearRegression())  \n",
    "    ])\n",
    "    \n",
    "    # Effectuer la validation croisée et calculer la performance\n",
    "    X = dayly_sales_by_categ_imputed.values\n",
    "    \n",
    "    scores = cross_val_score(pipeline, X, y, scoring='neg_mean_squared_error', cv=tscv)\n",
    "    mean_score = np.mean(scores)\n",
    "    std_score = np.std(scores)\n",
    "    \n",
    "    print(f\"{name} Imputer: Mean MSE = {-mean_score:.4f}, Std MSE = {std_score:.4f}\")"
   ]
  },
  {
   "cell_type": "code",
   "execution_count": null,
   "id": "ee0f62a3",
   "metadata": {},
   "outputs": [],
   "source": [
    "# Initialisation de l'IterativeImputer\n",
    "imputer = IterativeImputer(\n",
    "    estimator=LinearRegression(), \n",
    "    tol=1e-4,\n",
    "    initial_strategy='median',\n",
    "    imputation_order='ascending',\n",
    "    min_value=0,\n",
    "    random_state=0\n",
    ")\n",
    "\n",
    "# Application de l'imputation sur les colonnes de catégories\n",
    "df_sales_imputed = dayly_sales_by_categ.copy()\n",
    "df_sales_imputed[:] = imputer.fit_transform(dayly_sales_by_categ)\n",
    "\n",
    "# Afficher les données après imputation pour la période du 2 au 27 octobre 2021\n",
    "print(\"\\nDonnées après imputation :\")\n",
    "print(df_sales_imputed.loc['2021-10-02':'2021-10-27'])"
   ]
  },
  {
   "cell_type": "markdown",
   "id": "08444841",
   "metadata": {},
   "source": [
    "### Indicateur du nombre de ventes par mois"
   ]
  },
  {
   "cell_type": "code",
   "execution_count": null,
   "id": "4e115579",
   "metadata": {},
   "outputs": [],
   "source": [
    "monthly_total_sales = df_sales_imputed.resample('M').sum().sum(axis=1)\n",
    "monthly_total_sales"
   ]
  },
  {
   "cell_type": "code",
   "execution_count": null,
   "id": "2d6c8d22",
   "metadata": {},
   "outputs": [],
   "source": [
    "# Tracer les courbes\n",
    "plt.figure(figsize=(12, 6))\n",
    "\n",
    "# Tracer les ventes Total Mensuel\n",
    "plt.plot(monthly_total_sales.index, monthly_total_sales.values, linestyle='-', color='b', label='Nombre de ventes')\n",
    "\n",
    "# Tracer la Moyenne Mobile\n",
    "monthly_total_sales.rolling(window=5, center=True).mean().plot(label='Mobile average', lw=3, ls='-',c='g', alpha=0.8)\n",
    "# Tracer l'Exponential Weighted Moving Average (EWMA)\n",
    "monthly_total_sales.ewm(alpha=0.2).mean().plot(label='ewm (0.2)', c='orange', lw=3, ls='--', alpha=0.8)\n",
    "\n",
    "\n",
    "# Ajouter des labels et la légende\n",
    "plt.title('Nombre de ventes Total Mensuel avec Moyenne Mobile et EWMA')\n",
    "plt.xlabel('Date')\n",
    "plt.ylabel('Nombre de ventes')\n",
    "plt.legend()\n",
    "plt.tight_layout()\n",
    "plt.grid(True)\n",
    "# Sauvegarde du graphique\n",
    "plt.savefig(\"Nombre de ventes moyenne mobile.png\")\n",
    "plt.show()"
   ]
  },
  {
   "cell_type": "markdown",
   "id": "28a577eb",
   "metadata": {},
   "source": [
    "### Indicateur du nombre de clients par mois"
   ]
  },
  {
   "cell_type": "code",
   "execution_count": null,
   "id": "4e135ad0",
   "metadata": {},
   "outputs": [],
   "source": [
    "dayly_customers_by_categ = df.groupby(['categ', pd.Grouper(freq='D')])['client_id'].nunique().unstack(level=0)\n",
    "dayly_customers_by_categ"
   ]
  },
  {
   "cell_type": "code",
   "execution_count": null,
   "id": "7de09ad7",
   "metadata": {},
   "outputs": [],
   "source": [
    "# Création d'une copie des données pour l'imputation\n",
    "dayly_customers_by_categ_imputed = dayly_customers_by_categ.copy()\n",
    "\n",
    "# Liste des estimateurs à tester dans l'imputer\n",
    "estimators = [\n",
    "    ('DecisionTree', DecisionTreeRegressor(max_depth=10)),\n",
    "    ('LinearRegression', LinearRegression()),\n",
    "    ('RandomForest', RandomForestRegressor(n_estimators=10, max_depth=10, random_state=42))\n",
    "]\n",
    "\n",
    "# Définir le nombre de splits pour la validation croisée temporelle\n",
    "tscv = TimeSeriesSplit(n_splits=5)\n",
    "\n",
    "# Imputation simple des valeurs manquantes dans la colonne '1'\n",
    "simple_imputer = SimpleImputer(strategy='median')\n",
    "y = simple_imputer.fit_transform(dayly_customers_by_categ_imputed[[1]]).ravel()\n",
    "\n",
    "# Boucle pour tester chaque estimateur\n",
    "for name, estimator in estimators:\n",
    "    # Créer une pipeline avec l'IterativeImputer et le modèle final\n",
    "    pipeline = Pipeline(steps=[\n",
    "        ('imputer', IterativeImputer(estimator=estimator, max_iter=50, tol=1e-4, initial_strategy='median', random_state=0)),\n",
    "        ('model', LinearRegression())  \n",
    "    ])\n",
    "    \n",
    "    # Effectuer la validation croisée et calculer la performance\n",
    "    X = dayly_customers_by_categ_imputed.values\n",
    "    \n",
    "    scores = cross_val_score(pipeline, X, y, scoring='neg_mean_squared_error', cv=tscv)\n",
    "    mean_score = np.mean(scores)\n",
    "    std_score = np.std(scores)\n",
    "    \n",
    "    print(f\"{name} Imputer: Mean MSE = {-mean_score:.4f}, Std MSE = {std_score:.4f}\")"
   ]
  },
  {
   "cell_type": "code",
   "execution_count": null,
   "id": "2990a50d",
   "metadata": {},
   "outputs": [],
   "source": [
    "# Implémentation valeurs manquantes\n",
    "# Initialisation de l'IterativeImputer\n",
    "imputer = IterativeImputer(\n",
    "    estimator=LinearRegression(), \n",
    "    tol=1e-4,\n",
    "    initial_strategy='median',\n",
    "    imputation_order='ascending',\n",
    "    min_value=0,\n",
    "    random_state=0\n",
    ")\n",
    "\n",
    "# Application de l'imputation sur les colonnes de catégories\n",
    "df_customers_imputed = dayly_customers_by_categ.copy()\n",
    "df_customers_imputed[:] = imputer.fit_transform(dayly_customers_by_categ)\n",
    "\n",
    "# Afficher les données après imputation pour la période du 2 au 27 octobre 2021\n",
    "print(\"\\nDonnées après imputation :\")\n",
    "print(df_customers_imputed.loc['2021-10-02':'2021-10-27'])"
   ]
  },
  {
   "cell_type": "code",
   "execution_count": null,
   "id": "706c0c12",
   "metadata": {},
   "outputs": [],
   "source": [
    "monthly_total_customers = df_customers_imputed.resample('M').sum().sum(axis=1)\n",
    "monthly_total_customers"
   ]
  },
  {
   "cell_type": "code",
   "execution_count": 7,
   "id": "4e7d7891",
   "metadata": {},
   "outputs": [
    {
     "ename": "NameError",
     "evalue": "name 'monthly_total_customers' is not defined",
     "output_type": "error",
     "traceback": [
      "\u001b[1;31m---------------------------------------------------------------------------\u001b[0m",
      "\u001b[1;31mNameError\u001b[0m                                 Traceback (most recent call last)",
      "Cell \u001b[1;32mIn[7], line 5\u001b[0m\n\u001b[0;32m      2\u001b[0m plt\u001b[38;5;241m.\u001b[39mfigure(figsize\u001b[38;5;241m=\u001b[39m(\u001b[38;5;241m12\u001b[39m, \u001b[38;5;241m6\u001b[39m))\n\u001b[0;32m      4\u001b[0m \u001b[38;5;66;03m# Tracer les clients Total Mensuel\u001b[39;00m\n\u001b[1;32m----> 5\u001b[0m plt\u001b[38;5;241m.\u001b[39mplot(monthly_total_customers\u001b[38;5;241m.\u001b[39mindex, monthly_total_customers\u001b[38;5;241m.\u001b[39mvalues, linestyle\u001b[38;5;241m=\u001b[39m\u001b[38;5;124m'\u001b[39m\u001b[38;5;124m-\u001b[39m\u001b[38;5;124m'\u001b[39m, color\u001b[38;5;241m=\u001b[39m\u001b[38;5;124m'\u001b[39m\u001b[38;5;124mb\u001b[39m\u001b[38;5;124m'\u001b[39m, label\u001b[38;5;241m=\u001b[39m\u001b[38;5;124m'\u001b[39m\u001b[38;5;124mNombre de clients\u001b[39m\u001b[38;5;124m'\u001b[39m)\n\u001b[0;32m      7\u001b[0m \u001b[38;5;66;03m# Tracer la Moyenne Mobile\u001b[39;00m\n\u001b[0;32m      8\u001b[0m monthly_total_customers\u001b[38;5;241m.\u001b[39mrolling(window\u001b[38;5;241m=\u001b[39m\u001b[38;5;241m5\u001b[39m, center\u001b[38;5;241m=\u001b[39m\u001b[38;5;28;01mTrue\u001b[39;00m)\u001b[38;5;241m.\u001b[39mmean()\u001b[38;5;241m.\u001b[39mplot(label\u001b[38;5;241m=\u001b[39m\u001b[38;5;124m'\u001b[39m\u001b[38;5;124mMobile average\u001b[39m\u001b[38;5;124m'\u001b[39m, lw\u001b[38;5;241m=\u001b[39m\u001b[38;5;241m3\u001b[39m, ls\u001b[38;5;241m=\u001b[39m\u001b[38;5;124m'\u001b[39m\u001b[38;5;124m-\u001b[39m\u001b[38;5;124m'\u001b[39m,c\u001b[38;5;241m=\u001b[39m\u001b[38;5;124m'\u001b[39m\u001b[38;5;124mg\u001b[39m\u001b[38;5;124m'\u001b[39m, alpha\u001b[38;5;241m=\u001b[39m\u001b[38;5;241m0.8\u001b[39m)\n",
      "\u001b[1;31mNameError\u001b[0m: name 'monthly_total_customers' is not defined"
     ]
    },
    {
     "data": {
      "text/plain": [
       "<Figure size 1200x600 with 0 Axes>"
      ]
     },
     "metadata": {},
     "output_type": "display_data"
    }
   ],
   "source": [
    "\n",
    "# Tracer les courbes\n",
    "plt.figure(figsize=(12, 6))\n",
    "\n",
    "# Tracer les clients Total Mensuel\n",
    "plt.plot(monthly_total_customers.index, monthly_total_customers.values, linestyle='-', color='b', label='Nombre de clients')\n",
    "\n",
    "# Tracer la Moyenne Mobile\n",
    "monthly_total_customers.rolling(window=5, center=True).mean().plot(label='Mobile average', lw=3, ls='-',c='g', alpha=0.8)\n",
    "# Tracer l'Exponential Weighted Moving Average (EWMA)\n",
    "monthly_total_customers.ewm(alpha=0.2).mean().plot(label='ewm (0.2)', c='orange', lw=3, ls='--', alpha=0.8)\n",
    "\n",
    "\n",
    "# Ajouter des labels et la légende\n",
    "plt.title('Nombre de clients Mensuel avec Moyenne Mobile et EWMA')\n",
    "plt.xlabel('Date')\n",
    "plt.ylabel('Nombre de Clients par mois')\n",
    "plt.legend()\n",
    "plt.tight_layout()\n",
    "plt.grid(True)\n",
    "# Sauvegarde du graphique\n",
    "plt.savefig(\"Nombre de clients moyenne mobile.png\")\n",
    "plt.show()\n"
   ]
  },
  {
   "cell_type": "code",
   "execution_count": null,
   "id": "062b2b6f",
   "metadata": {},
   "outputs": [],
   "source": [
    "# Exclusion de février et mars 2023\n",
    "# Conversion de l'index en DataFrame temporaire pour filtrage\n",
    "dates = pd.DataFrame(index=monthly_total_ca.index)\n",
    "dates['Year'] = dates.index.year\n",
    "dates['Month'] = dates.index.month\n",
    "\n",
    "# Filtre pour exclure février et mars 2023\n",
    "filtered_dates = dates[~((dates['Year'] == 2023) & (dates['Month'].isin([2, 3])))]\n",
    "filtered_index = filtered_dates.index\n",
    "\n",
    "# Application du filtrage aux données\n",
    "monthly_total_customers = monthly_total_customers[filtered_index]\n",
    "monthly_total_sales=monthly_total_sales[filtered_index]"
   ]
  },
  {
   "cell_type": "code",
   "execution_count": null,
   "id": "42c4967d",
   "metadata": {},
   "outputs": [],
   "source": [
    "fig, ax1 = plt.subplots(figsize=(10, 6))\n",
    "\n",
    "# Tracer le nombre de clients par mois\n",
    "ax1.plot(monthly_total_customers.index, monthly_total_customers.values, linestyle='-', color='b', label='Nombre de Clients')\n",
    "ax1.set_ylabel('Nombre de Clients', color='b')\n",
    "ax1.tick_params(axis='y', labelcolor='b')\n",
    "ax1.grid(True)\n",
    "ax1.set_title('Nombre de Clients et de Ventes par Mois')\n",
    "\n",
    "# Ajouter un deuxième axe y pour le nombre de ventes\n",
    "ax2 = ax1.twinx()\n",
    "ax2.plot(monthly_total_sales.index, monthly_total_sales.values, linestyle='-', color='r', label='Nombre de Ventes')\n",
    "ax2.set_ylabel('Nombre de Ventes', color='r')\n",
    "ax2.tick_params(axis='y', labelcolor='r')\n",
    "ax2.grid(False)\n",
    "\n",
    "\n",
    "# Ajouter des légendes\n",
    "\n",
    "# Ajouter des légendes\n",
    "lines, labels = ax1.get_legend_handles_labels()\n",
    "lines2, labels2 = ax2.get_legend_handles_labels()\n",
    "ax1.legend(lines + lines2, labels + labels2, loc='upper left')\n",
    "\n",
    "plt.xticks(rotation=45)  # Rotation des labels de l'axe x pour une meilleure lisibilité\n",
    "plt.tight_layout()  # Ajuste le layout pour éviter les chevauchements\n",
    "plt.savefig(\"Nombre de Clients et ventes par mois.png\")\n",
    "plt.show()"
   ]
  },
  {
   "cell_type": "code",
   "execution_count": null,
   "id": "25234c87",
   "metadata": {},
   "outputs": [],
   "source": []
  },
  {
   "cell_type": "markdown",
   "id": "8e8088ad",
   "metadata": {},
   "source": [
    "On constate la forte saisonnalité de ces deux courbes qui sont fortement influencées par les sortie littéraire comme la rentrée littéraire en septembre, les fêtes de fin d'annnées, et les vacances d'été"
   ]
  },
  {
   "cell_type": "markdown",
   "id": "6a5e5f61",
   "metadata": {},
   "source": [
    "## 4.3 Analyse des prix"
   ]
  },
  {
   "cell_type": "code",
   "execution_count": null,
   "id": "dcf8198c",
   "metadata": {},
   "outputs": [],
   "source": [
    "# Distribution des prix\n",
    "plt.figure(figsize=(10, 6))  \n",
    "sns.histplot(data=df, x='price',bins=50, kde=True)\n",
    "\n",
    "plt.title('Distribution des prix', fontsize=15)  \n",
    "plt.xlabel('Prix', fontsize=12)  \n",
    "plt.grid(True, linestyle='--', alpha=0.9)  \n",
    "plt.xticks(fontsize=10)  \n",
    "\n",
    "plt.show()"
   ]
  },
  {
   "cell_type": "code",
   "execution_count": null,
   "id": "c942874e",
   "metadata": {},
   "outputs": [],
   "source": [
    "# Statistiques\n",
    "df['price'].describe()"
   ]
  },
  {
   "cell_type": "markdown",
   "id": "9597ca47",
   "metadata": {},
   "source": [
    "Les prix varient entre 0.62 et 300 €, avec une moyenne de 17.45 et un écart type de 18.32. \n",
    "Le prix médian est de 13.99 €"
   ]
  },
  {
   "cell_type": "code",
   "execution_count": null,
   "id": "ad2ecae7",
   "metadata": {},
   "outputs": [],
   "source": [
    "# Affichage du coeff de variation et du skewness\n",
    "Coeff_variation_price = df['price'].std()/df['price'].mean()\n",
    "Skewness_price = df['price'].skew()\n",
    "print('Le coefficient de variation est de',round(Coeff_variation_price,2),'et le skewness empirique de',round(Skewness_price,2) )"
   ]
  },
  {
   "cell_type": "markdown",
   "id": "e135fcc2",
   "metadata": {},
   "source": [
    "La distribution des prix est largement dispersée et fortement asymétrique vers la droite."
   ]
  },
  {
   "cell_type": "markdown",
   "id": "852331d1",
   "metadata": {},
   "source": [
    "### Distribution des prix par catégorie"
   ]
  },
  {
   "cell_type": "code",
   "execution_count": null,
   "id": "be519a99",
   "metadata": {},
   "outputs": [],
   "source": [
    "plt.figure(figsize=(10, 6))\n",
    "\n",
    "# Liste des catégories uniques\n",
    "categories = df['categ'].unique()\n",
    "\n",
    "# Boucle sur chaque catégorie pour tracer les histogrammes\n",
    "for cat in categories:\n",
    "    subset = df.loc[df['categ'] == cat,:]\n",
    "    sns.kdeplot(subset['price'], fill=True, label=f'Categorie {cat}')\n",
    "\n",
    "# Ajouter des labels, un titre et une légende\n",
    "plt.xlabel('Prix')\n",
    "plt.title('Distribution des prix par catégorie')\n",
    "plt.legend(title='Catégorie')\n",
    "plt.savefig('Distribution des prix par catégorie.png')\n",
    "# Afficher le graphique\n",
    "plt.show()"
   ]
  },
  {
   "cell_type": "code",
   "execution_count": null,
   "id": "22580309",
   "metadata": {},
   "outputs": [],
   "source": [
    "# Statistiques des prix pour chaque catégorie\n",
    "desc_stats = df.groupby('categ')['price'].describe()\n",
    "desc_stats"
   ]
  },
  {
   "cell_type": "markdown",
   "id": "320d515a",
   "metadata": {},
   "source": [
    "| Catégorie | Moyenne     | Minimum | Maximum |\n",
    "|-----------|-------------|---------|---------|\n",
    "| 0         | 10.64       | 0.62    | 40.99   |\n",
    "| 1         | 20.49       | 2.00    | 80.99   |\n",
    "| 2         | 76.21       | 30.99   | 300.00  |\n"
   ]
  },
  {
   "cell_type": "markdown",
   "id": "bd1c7632",
   "metadata": {},
   "source": [
    "## 4.4 Analyse des références"
   ]
  },
  {
   "cell_type": "code",
   "execution_count": null,
   "id": "b2af0d0a",
   "metadata": {},
   "outputs": [],
   "source": [
    "df"
   ]
  },
  {
   "cell_type": "code",
   "execution_count": null,
   "id": "4bc408a6",
   "metadata": {},
   "outputs": [],
   "source": [
    "# Filtrer les données de catégorie 1\n",
    "df_categ1 = df[df['categ'] == 1]\n",
    "# Calculer le nombre de ventes par référence pour les autres mois\n",
    "sales_by_ref_other_months = df_categ1.groupby('id_prod')['price'].count()\n",
    "\n",
    "# Calculer le total des ventes pour toutes les références pour les autres mois\n",
    "total_sales_other_months = sales_by_ref_other_months.sum()\n",
    "# Calculer le poids de chaque référence\n",
    "weights_by_ref = sales_by_ref_other_months / total_sales_other_months\n",
    "\n",
    "# Calculer le nombre de ventes imputées pour la catégorie 1 en octobre 2021\n",
    "df_sales_imputed_categ1=df_sales_imputed[1]\n",
    "sales_categ1_october = df_sales_imputed_categ1.loc['2021-10-02':'2021-10-27'].sum()\n",
    "\n",
    "# Distribuer les ventes imputées proportionnellement aux poids des références\n",
    "imputed_sales_by_ref = round(weights_by_ref * sales_categ1_october)\n",
    "\n",
    "# Ajouter les ventes imputées aux ventes réelles\n",
    "total_sales_by_ref_categ_1 = sales_by_ref_other_months.copy()\n",
    "for ref, imputed_sales in imputed_sales_by_ref.items():\n",
    "    if ref in total_sales_by_ref_categ_1:\n",
    "        total_sales_by_ref_categ_1[ref] += imputed_sales\n",
    "    else:\n",
    "        total_sales_by_ref_categ_1[ref] = imputed_sales"
   ]
  },
  {
   "cell_type": "code",
   "execution_count": null,
   "id": "31a5ba97",
   "metadata": {},
   "outputs": [],
   "source": [
    "# Calculer les ventes totales par référence pour chaque catégorie\n",
    "total_sales_by_ref_categ_0 = df[df['categ'] == 0].groupby('id_prod')['price'].count()\n",
    "total_sales_by_ref_categ_2 = df[df['categ'] == 2].groupby('id_prod')['price'].count()\n",
    "\n",
    "# Concaténer les ventes totales pour toutes les catégories\n",
    "total_sales_by_ref = pd.concat([\n",
    "    total_sales_by_ref_categ_0,\n",
    "    total_sales_by_ref_categ_1,\n",
    "    total_sales_by_ref_categ_2\n",
    "], axis=0)\n",
    "total_sales_by_ref"
   ]
  },
  {
   "cell_type": "markdown",
   "id": "086f27e4",
   "metadata": {},
   "source": [
    "### Top 10 des ventes"
   ]
  },
  {
   "cell_type": "code",
   "execution_count": null,
   "id": "318b0a2b",
   "metadata": {},
   "outputs": [],
   "source": [
    "# Trier les références par nombre total de ventes en ordre décroissant et sélectionner les 10 premières\n",
    "top_10_references = total_sales_by_ref.sort_values(ascending=False).head(10)\n",
    "\n",
    "# Afficher les résultats\n",
    "print(top_10_references)"
   ]
  },
  {
   "cell_type": "code",
   "execution_count": null,
   "id": "c6e95635",
   "metadata": {},
   "outputs": [],
   "source": [
    "# Représentation graphique du top10 références par nombre de vente\n",
    "plt.figure(figsize=(10, 6))\n",
    "bars = top_10_references.plot(kind='bar', color='skyblue')\n",
    "plt.title('Top 10 Références par nombre de ventes')\n",
    "plt.xlabel('Référence')\n",
    "plt.ylabel('Nombre de ventes Total')\n",
    "plt.xticks(rotation=0)\n",
    "# Ajouter les valeurs dans les barres\n",
    "for bar in bars.patches:\n",
    "    height = bar.get_height()\n",
    "    bars.text(\n",
    "        bar.get_x() + bar.get_width() / 2,  # Position horizontale\n",
    "        height*9/10,  # Position verticale\n",
    "        f'{height:,}',  # Valeur avec séparation des milliers\n",
    "        ha='center',  # Alignement horizontal\n",
    "        va='bottom',  # Alignement vertical\n",
    "        color='black'  # Couleur du texte\n",
    "    )\n",
    "\n",
    "plt.grid(True, linestyle='--', alpha=0.7)\n",
    "plt.tight_layout()\n",
    "plt.show()"
   ]
  },
  {
   "cell_type": "markdown",
   "id": "c8b7d8cc",
   "metadata": {},
   "source": [
    "### Flop 10 références par nombre de ventes"
   ]
  },
  {
   "cell_type": "code",
   "execution_count": null,
   "id": "081d87fb",
   "metadata": {},
   "outputs": [],
   "source": [
    "# Trier les références par nombre total de ventes en ordre croissant et sélectionner les 10 premières\n",
    "flop_20_references = total_sales_by_ref.sort_values().head(20)\n",
    "\n",
    "# Afficher les résultats\n",
    "print(flop_20_references)"
   ]
  },
  {
   "cell_type": "markdown",
   "id": "2ca15f7e",
   "metadata": {},
   "source": [
    "Nous avons étendu le classement pour constater que 18 références n'ont qu'une seule vente.\n",
    "Pour rappel nous avions écarté de notre Df les 21 produits n'ayant réalisés aucune vente."
   ]
  },
  {
   "cell_type": "markdown",
   "id": "4abc5e9c",
   "metadata": {},
   "source": [
    "### Top 10 références Ca"
   ]
  },
  {
   "cell_type": "code",
   "execution_count": null,
   "id": "0a543961",
   "metadata": {},
   "outputs": [],
   "source": [
    "# Calcul du prix de chaque référence categ 1\n",
    "price_by_ref_unique_categ_1 = df_categ1.groupby('id_prod')['price'].unique()\n",
    "price_by_ref_categ_1 = price_by_ref_unique_categ_1.apply(lambda x: x[0])\n",
    "price_by_ref_categ_1"
   ]
  },
  {
   "cell_type": "code",
   "execution_count": null,
   "id": "343a47a9",
   "metadata": {},
   "outputs": [],
   "source": [
    "# Calcul du ca total de chaque référence categ 1\n",
    "total_ca_by_ref_categ_1= price_by_ref_categ_1*total_sales_by_ref_categ_1\n",
    "total_ca_by_ref_categ_1"
   ]
  },
  {
   "cell_type": "code",
   "execution_count": null,
   "id": "36ae7e9a",
   "metadata": {},
   "outputs": [],
   "source": [
    "# Calculer du ca par référence pour chaque catégorie\n",
    "total_ca_by_ref_categ_0 = df[df['categ'] == 0].groupby('id_prod')['price'].sum()\n",
    "total_ca_by_ref_categ_2 = df[df['categ'] == 2].groupby('id_prod')['price'].sum()\n",
    "\n",
    "# Concaténer les ca pour toutes les catégories\n",
    "total_ca_by_ref = pd.concat([\n",
    "    total_ca_by_ref_categ_0,\n",
    "    total_ca_by_ref_categ_1,\n",
    "    total_ca_by_ref_categ_2\n",
    "], axis=0)\n",
    "total_ca_by_ref"
   ]
  },
  {
   "cell_type": "code",
   "execution_count": null,
   "id": "9c100d8b",
   "metadata": {},
   "outputs": [],
   "source": [
    "# Trier les références par ca en ordre décroissant et sélectionner les 10 premières\n",
    "ca_top_10_references = total_ca_by_ref.sort_values(ascending=False).head(10)\n",
    "\n",
    "# Afficher les résultats\n",
    "print(ca_top_10_references)"
   ]
  },
  {
   "cell_type": "code",
   "execution_count": null,
   "id": "46843cc0",
   "metadata": {},
   "outputs": [],
   "source": [
    "ref_top10= ca_top_10_references.index.tolist()\n",
    "ref_top10"
   ]
  },
  {
   "cell_type": "code",
   "execution_count": null,
   "id": "04337028",
   "metadata": {},
   "outputs": [],
   "source": [
    "total_sales_by_ref=total_sales_by_ref.reset_index()\n",
    "total_sales_by_ref"
   ]
  },
  {
   "cell_type": "code",
   "execution_count": null,
   "id": "5a4b59f2",
   "metadata": {},
   "outputs": [],
   "source": [
    "sales_top10= total_sales_by_ref.loc[total_sales_by_ref['id_prod'].isin(ref_top10),:]\n",
    "sales_top10.columns=['id_prod','total_sales']\n",
    "sales_top10"
   ]
  },
  {
   "cell_type": "code",
   "execution_count": null,
   "id": "ed0d0eda",
   "metadata": {},
   "outputs": [],
   "source": [
    "ca_top_10_references=ca_top_10_references.reset_index()\n",
    "ca_top_10_references.columns= ['id_prod','ca']\n"
   ]
  },
  {
   "cell_type": "code",
   "execution_count": null,
   "id": "d26902b4",
   "metadata": {},
   "outputs": [],
   "source": [
    "ca_top_10_references=ca_top_10_references.merge(sales_top10, on= 'id_prod')\n",
    "ca_top_10_references"
   ]
  },
  {
   "cell_type": "code",
   "execution_count": null,
   "id": "73f78ea7",
   "metadata": {},
   "outputs": [],
   "source": [
    "fig, ax1 = plt.subplots(figsize=(12, 6))\n",
    "\n",
    "# Bar plot pour le chiffre d'affaires\n",
    "bars = ax1.bar(ca_top_10_references['id_prod'], ca_top_10_references['ca'], color='skyblue', label='Ca Total (€)')\n",
    "ax1.set_xlabel('Référence')\n",
    "ax1.set_ylabel('Ca Total (€)', color='blue')\n",
    "ax1.tick_params(axis='y', labelcolor='blue')\n",
    "ax1.set_title('Top 10 des Références par Ca avec le Nombre de Ventes')\n",
    "ax1.set_xticks(range(len(ca_top_10_references['id_prod'])))\n",
    "ax1.set_xticklabels(ca_top_10_references['id_prod'], rotation=45)\n",
    "\n",
    "# Ajouter les valeurs dans les barres\n",
    "for bar in bars:\n",
    "    height = bar.get_height()\n",
    "    ax1.text(\n",
    "        bar.get_x() + bar.get_width() / 2,  # Position horizontale\n",
    "        height * 9 / 10,  # Position verticale\n",
    "        f'{round(height):,}'.replace(',', ' '),  # Valeur avec séparation des milliers\n",
    "        ha='center',  # Alignement horizontal\n",
    "        va='top',  # Alignement vertical\n",
    "        color='black'  # Couleur du texte\n",
    "    )\n",
    "\n",
    "# Line plot pour le nombre de ventes\n",
    "ax2 = ax1.twinx()\n",
    "line = ax2.plot(ca_top_10_references['id_prod'], ca_top_10_references['total_sales'], color='green', marker='o', linestyle='-', label='Nombre de Ventes')\n",
    "ax2.set_ylabel('Nombre de Ventes', color='green')\n",
    "ax2.tick_params(axis='y', labelcolor='green')\n",
    "\n",
    "# Ajouter les valeurs sur la ligne\n",
    "for i, txt in enumerate(ca_top_10_references['total_sales']):\n",
    "    ax2.annotate(f'{txt:,}'.replace(',', ' '), (i, txt), textcoords=\"offset points\", xytext=(20, 7), ha='center', va='top', color='black')\n",
    "\n",
    "# Grid and layout\n",
    "fig.tight_layout()\n",
    "\n",
    "fig.legend(loc='upper right', bbox_to_anchor=(0.9, 0.85))\n",
    "plt.savefig(\"Top 10 Références par Ca et Nombre de Ventes.png\")\n",
    "plt.show()"
   ]
  },
  {
   "cell_type": "markdown",
   "id": "6be57151",
   "metadata": {},
   "source": [
    "### Flop 10 références par Ca"
   ]
  },
  {
   "cell_type": "code",
   "execution_count": null,
   "id": "15befbe4",
   "metadata": {},
   "outputs": [],
   "source": [
    "# Trier les références par ca en ordre croissant et sélectionner les 10 premières\n",
    "ca_flop_10_references = total_ca_by_ref.sort_values().head(10)\n",
    "\n",
    "# Afficher les résultats\n",
    "print(ca_flop_10_references)"
   ]
  },
  {
   "cell_type": "markdown",
   "id": "8bdedd54",
   "metadata": {},
   "source": [
    "On retrouve les références ayant les plus bas prix parmi le flop 20 ventes.\n",
    "On constate qu'ils sont tous de la catégorie 0"
   ]
  },
  {
   "cell_type": "markdown",
   "id": "781cf102",
   "metadata": {},
   "source": [
    "### Répartition du nombre de référence par catégorie"
   ]
  },
  {
   "cell_type": "code",
   "execution_count": null,
   "id": "b897a3a6",
   "metadata": {},
   "outputs": [],
   "source": [
    "ref_by_categ = df.groupby('categ')['id_prod'].nunique()\n",
    "print(f'La catégorie 0 contient {ref_by_categ[0]} références')\n",
    "print(f'La catégorie 1 contient {ref_by_categ[1]} références')\n",
    "print(f'La catégorie 2 contient {ref_by_categ[2]} références')"
   ]
  },
  {
   "cell_type": "code",
   "execution_count": null,
   "id": "e8616bde",
   "metadata": {},
   "outputs": [],
   "source": [
    "# Créer un pie chart\n",
    "plt.figure(figsize=(6,6))\n",
    "plt.pie(ref_by_categ, labels=ref_by_categ.index, autopct='%1.0f%%', startangle=140)\n",
    "plt.title('Répartition du nombre de références par catégorie')\n",
    "plt.axis('equal')  \n",
    "plt.legend()\n",
    "plt.savefig(\"Répartition du nombre de références par catégorie.png\")\n",
    "plt.show()"
   ]
  },
  {
   "cell_type": "markdown",
   "id": "62a15e43",
   "metadata": {},
   "source": [
    "### Moyenne de prix par catégorie"
   ]
  },
  {
   "cell_type": "code",
   "execution_count": null,
   "id": "5ba88b0b",
   "metadata": {},
   "outputs": [],
   "source": [
    "# Prix moyen par categorie\n",
    "mean_price_categ = products.groupby([\"categ\"])[\"price\"].mean()\n",
    "print(\"Prix moyen d'un livre selon sa catégorie\")\n",
    "print(f'Catégorie 0 : {mean_price_categ[0]:,.2f} €')\n",
    "print(f'Catégorie 1 : {mean_price_categ[1]:,.2f} €')\n",
    "print(f'Catégorie 2 : {mean_price_categ[2]:,.2f} €')"
   ]
  },
  {
   "cell_type": "markdown",
   "id": "c9af5212",
   "metadata": {},
   "source": [
    "### Répartition du nombre de ventes par catégorie"
   ]
  },
  {
   "cell_type": "code",
   "execution_count": null,
   "id": "8414ec1e",
   "metadata": {},
   "outputs": [],
   "source": [
    "# Nombre de ventes par categorie\n",
    "total_sales_categ_0 = total_sales_by_ref_categ_0.sum()\n",
    "total_sales_categ_1 = total_sales_by_ref_categ_1.sum()\n",
    "total_sales_categ_2 = total_sales_by_ref_categ_2.sum()\n",
    "print(\"Nombre de ventes par catégorie\")\n",
    "print(f'Catégorie 0 : {total_sales_categ_0} ventes')\n",
    "print(f'Catégorie 1 : {total_sales_categ_1} ventes')\n",
    "print(f'Catégorie 2 : {total_sales_categ_2} ventes')"
   ]
  },
  {
   "cell_type": "code",
   "execution_count": null,
   "id": "8a022600",
   "metadata": {},
   "outputs": [],
   "source": [
    "# Convertir les valeurs en Series\n",
    "sales_data = pd.Series({\n",
    "    'Catégorie 0': total_sales_categ_0,\n",
    "    'Catégorie 1': total_sales_categ_1,\n",
    "    'Catégorie 2': total_sales_categ_2\n",
    "})"
   ]
  },
  {
   "cell_type": "code",
   "execution_count": null,
   "id": "2212da57",
   "metadata": {},
   "outputs": [],
   "source": [
    "plt.figure(figsize=(6,6))\n",
    "plt.pie(sales_data, labels=ref_by_categ.index, autopct='%1.0f%%', startangle=140)\n",
    "plt.title('Répartition du nombre de ventes par catégorie')\n",
    "plt.axis('equal')  \n",
    "plt.legend()\n",
    "plt.savefig(\"Répartition du nombre de ventes par catégorie.png\")\n",
    "plt.show()"
   ]
  },
  {
   "cell_type": "markdown",
   "id": "fdffea7f",
   "metadata": {},
   "source": [
    "### Calcul du Ca par catégories"
   ]
  },
  {
   "cell_type": "code",
   "execution_count": null,
   "id": "f5bb6e8e",
   "metadata": {},
   "outputs": [],
   "source": [
    "# Calculer le CA total pour chaque catégorie\n",
    "total_ca_by_categ = df_imputed[[0, 1, 2]].sum()\n",
    "total_ca_by_categ"
   ]
  },
  {
   "cell_type": "code",
   "execution_count": null,
   "id": "a34220f6",
   "metadata": {},
   "outputs": [],
   "source": [
    "# Créer le graphique\n",
    "plt.figure(figsize=(10, 6))\n",
    "\n",
    "# Tracer le diagramme en barres\n",
    "ax = total_ca_by_categ.plot(kind='bar', color=['blue','orange' ,'green'])\n",
    "\n",
    "# Ajouter les labels et le titre\n",
    "plt.title('Chiffre d\\'Affaires Total par Catégorie')\n",
    "plt.xlabel(' ')\n",
    "plt.ylabel('Chiffre d\\'Affaires (€)')\n",
    "plt.xticks(ticks=range(len(total_ca_by_categ)), labels=[f'Catégorie {i}' for i in total_ca_by_categ.index], rotation=0)\n",
    "plt.grid(axis='y', linestyle='--', alpha=0.7) \n",
    "\n",
    "# Ajouter les valeurs sur chaque barre\n",
    "for rect in ax.patches:  \n",
    "    height = rect.get_height()\n",
    "    formatted_height = '{:,.0f}'.format(height).replace(',', ' ')\n",
    "    ax.text(\n",
    "        rect.get_x() + rect.get_width() / 2,  \n",
    "        height*5/6,  \n",
    "        formatted_height,  \n",
    "        ha='center',  \n",
    "        va='bottom',\n",
    "        color='white',\n",
    "        fontweight='bold'\n",
    "    )\n",
    "\n",
    "plt.tight_layout() \n",
    "# Sauvegarde du graphique\n",
    "plt.savefig(\"Chiffre d'affaire total par catégorie.png\")\n",
    "plt.show()"
   ]
  },
  {
   "cell_type": "markdown",
   "id": "35abf2d5",
   "metadata": {},
   "source": [
    "### Répartition du Ca par catégorie"
   ]
  },
  {
   "cell_type": "code",
   "execution_count": null,
   "id": "4c73fe91",
   "metadata": {},
   "outputs": [],
   "source": [
    "print('Ca total par catégorie')\n",
    "\n",
    "print(f'Catégorie 0 : {total_ca_by_categ[0]:,.0f}'.replace(',', ' ') + '€')\n",
    "print(f'Catégorie 1 : {round(total_ca_by_categ[1]):,.0f}'.replace(',', ' ') + '€')\n",
    "print(f'Catégorie 2 : {round(total_ca_by_categ[2]):,.0f}'.replace(',', ' ') + '€')"
   ]
  },
  {
   "cell_type": "code",
   "execution_count": null,
   "id": "7c39c8b4",
   "metadata": {},
   "outputs": [],
   "source": [
    "plt.figure(figsize=(6, 6))\n",
    "plt.pie(total_ca_by_categ, labels=ref_by_categ.index, autopct='%1.0f%%', startangle=180)\n",
    "plt.title('Répartition du Ca par catégorie')\n",
    "plt.axis('equal')  \n",
    "plt.legend()\n",
    "plt.savefig(\"Répartition du Ca par catégorie.png\")\n",
    "plt.show()"
   ]
  },
  {
   "cell_type": "markdown",
   "id": "7648da19",
   "metadata": {},
   "source": [
    "## 4.5 Profil des clients"
   ]
  },
  {
   "cell_type": "markdown",
   "id": "717ff93f",
   "metadata": {},
   "source": [
    "### Clients BtoB"
   ]
  },
  {
   "cell_type": "code",
   "execution_count": null,
   "id": "b6d4d3ab",
   "metadata": {},
   "outputs": [],
   "source": [
    "# Création d'un Df avec le nombre d'achats et le montant total par clients\n",
    "sales_by_customers= df.groupby(['client_id']).agg({'session_id':'count','price':'sum'}).reset_index()\n",
    "sales_by_customers.rename(columns={'session_id':'Nombre d\\'achats','price':'montant total achats'}, inplace=True)\n",
    "sales_by_customers_sorted = sales_by_customers.sort_values(['Nombre d\\'achats'], ascending=False)\n",
    "sales_by_customers_sorted\n"
   ]
  },
  {
   "cell_type": "markdown",
   "id": "b81b37cb",
   "metadata": {},
   "source": [
    "|client_id           | Nombre d'achats          | Montant total des achats en € |\n",
    "|---------------------------------|---------------------------------|---------------------------------|\n",
    "| c_1609 | 25 488 | 324 033 |\n",
    "|c_6714|9 187|153 658|\n",
    "|c_3454|6 773|113 667|\n",
    "|c_4958|5 195|289 760|"
   ]
  },
  {
   "cell_type": "markdown",
   "id": "b66e5ec3",
   "metadata": {},
   "source": [
    "Nous identifions quatre clients dont le nombre d'achat nous permet de déduire qu'il s'agit de clients BtoB (libraires, bibliothécaire) que nous allons isoler dans un Df à part."
   ]
  },
  {
   "cell_type": "code",
   "execution_count": null,
   "id": "c3dd7cc4",
   "metadata": {},
   "outputs": [],
   "source": [
    "BtoB_customers = df.loc[df['client_id'].isin(['c_1609','c_6714','c_3454','c_4958'])]\n",
    "BtoB_customers                        "
   ]
  },
  {
   "cell_type": "code",
   "execution_count": null,
   "id": "ca027e46",
   "metadata": {
    "scrolled": true
   },
   "outputs": [],
   "source": [
    "total_ca_BtoB= BtoB_customers['price'].sum()\n",
    "print(' Le Ca total engendré par les clients BtoB est de',total_ca_BtoB, '€, soit', round(total_ca_BtoB*100/ca_total,2), '% du Ca total')"
   ]
  },
  {
   "cell_type": "code",
   "execution_count": null,
   "id": "1a198496",
   "metadata": {},
   "outputs": [],
   "source": [
    "BtoB_ca_categ=BtoB_customers.groupby('categ')['price'].sum()\n",
    "BtoB_ca_categ"
   ]
  },
  {
   "cell_type": "code",
   "execution_count": null,
   "id": "d229ed99",
   "metadata": {},
   "outputs": [],
   "source": [
    "plt.figure(figsize=(6, 6))\n",
    "plt.pie(BtoB_ca_categ, labels=BtoB_ca_categ.index, autopct='%1.0f%%', startangle=180)\n",
    "plt.title('Répartition du Ca par catégorie pour les clients BtoB')\n",
    "plt.axis('equal')  \n",
    "plt.legend()\n",
    "plt.savefig('Répartition du Ca par catégorie pour les clients BtoB.png')\n",
    "plt.show()"
   ]
  },
  {
   "cell_type": "markdown",
   "id": "778f772d",
   "metadata": {},
   "source": [
    "On constate une répartition très équilibrée du Ca entre les catégories pour les clients BtoB"
   ]
  },
  {
   "cell_type": "code",
   "execution_count": null,
   "id": "82bda0f8",
   "metadata": {},
   "outputs": [],
   "source": [
    "BtoB_ca_categ_by_customers=BtoB_customers.groupby(['client_id','categ'])['price'].sum().reset_index()\n",
    "BtoB_ca_categ_by_customers"
   ]
  },
  {
   "cell_type": "code",
   "execution_count": null,
   "id": "13dee3d1",
   "metadata": {},
   "outputs": [],
   "source": [
    "# Pivot pour avoir les catégories comme colonnes\n",
    "df_pivot = BtoB_ca_categ_by_customers.pivot(index='client_id', columns='categ', values='price').fillna(0)\n",
    "\n",
    "# Réinitialiser l'index pour que les client_id soient une colonne\n",
    "df_pivot.reset_index(inplace=True)\n",
    "\n",
    "# Renommer les colonnes pour plus de clarté\n",
    "df_pivot.columns = ['client_id', 'Catégorie 0', 'Catégorie 1', 'Catégorie 2']\n",
    "\n",
    "# Tracer le graphique\n",
    "plt.figure(figsize=(14, 6))\n",
    "\n",
    "\n",
    "# Créer un graphique à barres avec des barres côte à côte\n",
    "df_pivot.plot(x='client_id', kind='bar', stacked=False)\n",
    "\n",
    "# Ajouter des labels et un titre\n",
    "plt.title('Chiffre d\\'Affaires par Client BtoB et par Catégorie')\n",
    "plt.xlabel('ID Client')\n",
    "plt.ylabel('Chiffre d\\'Affaires (€)')\n",
    "plt.xticks(rotation=0)\n",
    "plt.savefig('ca par categ par client BtoB.png')\n",
    "# Afficher le graphique\n",
    "plt.show()"
   ]
  },
  {
   "cell_type": "markdown",
   "id": "ee680bff",
   "metadata": {},
   "source": [
    "### Clients particuliers"
   ]
  },
  {
   "cell_type": "code",
   "execution_count": null,
   "id": "b492c401",
   "metadata": {},
   "outputs": [],
   "source": [
    "# on exclu les clients BtoB pour l'analyse des clients 'lambda'\n",
    "normal_customers= df.loc[~df['client_id'].isin(['c_1609','c_6714','c_3454','c_4958'])]\n",
    "normal_customers"
   ]
  },
  {
   "cell_type": "code",
   "execution_count": null,
   "id": "cefda523",
   "metadata": {},
   "outputs": [],
   "source": [
    "# Répartition des clients par sexe\n",
    "normal_customers_by_sex= normal_customers.groupby('sex')['client_id'].nunique()\n",
    "normal_customers_by_sex"
   ]
  },
  {
   "cell_type": "code",
   "execution_count": null,
   "id": "a8ce2ccf",
   "metadata": {},
   "outputs": [],
   "source": [
    "plt.figure(figsize=(6, 6))\n",
    "plt.pie(normal_customers_by_sex, labels=[\"Femmes\",\"Hommes\"], autopct='%1.0f%%', startangle=90)\n",
    "plt.title('Répartition des clients par genre')\n",
    "plt.axis('equal')  \n",
    "plt.savefig('Répartition des clients par genre.png')\n",
    "plt.show()"
   ]
  },
  {
   "cell_type": "markdown",
   "id": "29356186",
   "metadata": {},
   "source": [
    "### Répartition du Ca par genre"
   ]
  },
  {
   "cell_type": "code",
   "execution_count": null,
   "id": "4b9379bb",
   "metadata": {},
   "outputs": [],
   "source": [
    "# Calcul du Ca par sexe\n",
    "ca_by_sex= normal_customers.groupby('sex')['price'].sum()\n",
    "ca_by_sex"
   ]
  },
  {
   "cell_type": "code",
   "execution_count": null,
   "id": "0fcc1298",
   "metadata": {},
   "outputs": [],
   "source": [
    "plt.figure(figsize=(6, 6))\n",
    "plt.pie(ca_by_sex, labels=[\"Femmes\",\"Hommes\"], autopct='%1.0f%%', startangle=90)\n",
    "plt.title('Répartition du Ca par genre')\n",
    "plt.axis('equal')  \n",
    "\n",
    "plt.savefig('Répartition du CA par genre.png')\n",
    "plt.show()"
   ]
  },
  {
   "cell_type": "code",
   "execution_count": null,
   "id": "b6daa7b8",
   "metadata": {},
   "outputs": [],
   "source": [
    "# Calcul du Ca par catégorie par sexe\n",
    "ca_by_sex_by_categ= normal_customers.groupby(['sex','categ'])['price'].sum().reset_index()\n",
    "ca_by_sex_by_categ"
   ]
  },
  {
   "cell_type": "code",
   "execution_count": null,
   "id": "70644efa",
   "metadata": {},
   "outputs": [],
   "source": [
    "# Préparation des données pour le plot\n",
    "categories = df['categ'].unique()\n",
    "sexes = df['sex'].unique()\n",
    "\n",
    "bar_width = 0.35  \n",
    "index = np.arange(len(categories))  \n",
    "\n",
    "# Séparer les prix par sexe et catégorie\n",
    "price_m = ca_by_sex_by_categ[ca_by_sex_by_categ['sex'] == 'm'].set_index('categ')['price']\n",
    "price_f = ca_by_sex_by_categ[ca_by_sex_by_categ['sex'] == 'f'].set_index('categ')['price']\n",
    "\n",
    "# Création du plot\n",
    "fig, ax = plt.subplots(figsize=(10, 6))\n",
    "\n",
    "bar1 = ax.bar(index, price_f[categories], bar_width, label='Femmes', color='b')\n",
    "bar2 = ax.bar(index + bar_width, price_m[categories], bar_width, label='Hommes', color='Orange')\n",
    "\n",
    "\n",
    "ax.set_xlabel('Catégories')\n",
    "ax.set_ylabel('Ca (€)')\n",
    "ax.set_title('Ca par Catégorie et Sexe')\n",
    "ax.set_xticks(index + bar_width / 2)\n",
    "ax.set_xticklabels(categories)\n",
    "ax.legend()\n",
    "\n",
    "# Ajouter les valeurs sur chaque barre\n",
    "for bars in [bar1, bar2]:\n",
    "    for bar in bars:\n",
    "        height = bar.get_height()\n",
    "        ax.annotate(f'{height:,.0f}'.replace(\",\", \" \"),  \n",
    "                    xy=(bar.get_x() + bar.get_width() / 2, height),\n",
    "                    xytext=(0, 3), \n",
    "                    textcoords=\"offset points\",\n",
    "                    ha='center', va='bottom', color='black')\n",
    "\n",
    "\n",
    "plt.tight_layout()\n",
    "plt.savefig('Ca par Catégorie et Sexe.png')\n",
    "plt.show()"
   ]
  },
  {
   "cell_type": "markdown",
   "id": "9caa954b",
   "metadata": {},
   "source": [
    "### Répartition par âge"
   ]
  },
  {
   "cell_type": "code",
   "execution_count": null,
   "id": "6e1d9455",
   "metadata": {
    "scrolled": true
   },
   "outputs": [],
   "source": [
    "# On créé une colonne 'age' qui est l'âge au moment du dernier achat\n",
    "\n",
    "normal_customers_copy = normal_customers.copy()\n",
    "last_purchase_year = normal_customers_copy.groupby('client_id').apply(lambda x: x.index.year.max()).reset_index()\n",
    "last_purchase_year.columns = ['client_id', 'last_purchase_year']\n",
    "\n",
    "# Joindre l'année de la dernière transaction au DataFrame\n",
    "normal_customers_copy = normal_customers_copy.merge(last_purchase_year, on='client_id')\n",
    "\n",
    "# Calculer l'âge en utilisant l'année de la dernière transaction\n",
    "normal_customers_copy['age'] = normal_customers_copy['last_purchase_year'] - normal_customers_copy['birth']\n",
    "\n",
    "\n",
    "normal_customers_copy.drop(columns='last_purchase_year', inplace=True)\n",
    "normal_customers_unique = normal_customers_copy.drop_duplicates(subset='client_id')\n",
    "\n"
   ]
  },
  {
   "cell_type": "code",
   "execution_count": null,
   "id": "28b2fecd",
   "metadata": {},
   "outputs": [],
   "source": [
    "\n",
    "plt.figure(figsize=(10, 6))  \n",
    "sns.histplot(data=normal_customers_unique, x='age', kde=True, discrete=True, color='blue')\n",
    "\n",
    "\n",
    "plt.title('Distribution des Clients par Âge', fontsize=15)  \n",
    "plt.xlabel('Âge', fontsize=12)  \n",
    "plt.ylabel('Nombre de Clients', fontsize=12)  \n",
    "plt.grid(True, linestyle='--', alpha=0.9)  \n",
    "plt.xticks(fontsize=10)  \n",
    "plt.yticks(fontsize=10)  \n",
    "plt.savefig('Distribution des Clients par Âge.png')\n",
    "plt.show()"
   ]
  },
  {
   "cell_type": "code",
   "execution_count": null,
   "id": "5c3b116a",
   "metadata": {},
   "outputs": [],
   "source": [
    "normal_customers_age=normal_customers_copy"
   ]
  },
  {
   "cell_type": "code",
   "execution_count": null,
   "id": "d7d3b53b",
   "metadata": {},
   "outputs": [],
   "source": [
    "# Statistiques sur les âges\n",
    "normal_customers_age['age'].describe()"
   ]
  },
  {
   "cell_type": "markdown",
   "id": "366b7619",
   "metadata": {},
   "source": [
    "La moyenne des âges est d'environ 45 ans avec un écart type de 14 ans. l'âge médian est de 44 ans. \n",
    "Les clients ont entre 17 et 94 ans."
   ]
  },
  {
   "cell_type": "code",
   "execution_count": null,
   "id": "bbf98b3a",
   "metadata": {},
   "outputs": [],
   "source": [
    "# Affichage du coeff de variation et du skewness\n",
    "Coeff_variation_age = normal_customers_age['age'].std()/normal_customers_age['age'].mean()\n",
    "Skewness_age = normal_customers_age['age'].skew()\n",
    "print('le coefficient de variation est de',round(Coeff_variation_age,2),'et le skewness empirique de',round(Skewness_age,2) )"
   ]
  },
  {
   "cell_type": "markdown",
   "id": "2e38c0ac",
   "metadata": {},
   "source": [
    "Les âges des clients ont une variabilité modérée, avec un coefficient de variation de 0.31, la dispersion des âges autour de la moyenne est relativement faible.\n",
    "La distribution des âges est légèrement asymétrique à droite avec un skewness de 0.58. Cela indique qu'il y a quelques valeurs élevées d'âge, mais l'asymétrie n'est pas très prononcée."
   ]
  },
  {
   "cell_type": "markdown",
   "id": "9a2af034",
   "metadata": {},
   "source": [
    "## 4.6 Analyse des comportements d'achat"
   ]
  },
  {
   "cell_type": "markdown",
   "id": "6805f6fe",
   "metadata": {},
   "source": [
    "### Courbe de lorenz pour la répartition du Ca par client"
   ]
  },
  {
   "cell_type": "code",
   "execution_count": null,
   "id": "97a09f5f",
   "metadata": {},
   "outputs": [],
   "source": [
    "# Agréger les dépenses totales par client\n",
    "total_spent_by_client = normal_customers.groupby('client_id')['price'].sum().reset_index()\n",
    "\n",
    "# Trier les clients par dépenses croissantes\n",
    "total_spent_by_client_sorted = total_spent_by_client.sort_values(by='price')\n",
    "\n",
    "# Calculer la courbe de Lorenz\n",
    "cumulative_spent = total_spent_by_client_sorted['price'].cumsum()\n",
    "lorenz_curve = cumulative_spent / cumulative_spent.iloc[-1]\n",
    "lorenz_curve = np.insert(lorenz_curve.values, 0, 0)  # Ajouter un point (0,0)\n",
    "\n",
    "# Axe des x pour la courbe de Lorenz\n",
    "n = len(lorenz_curve)\n",
    "x = np.linspace(0.0, 1.0, n)\n",
    "\n",
    "# Tracer la courbe de Lorenz\n",
    "plt.figure(figsize=(10, 6))\n",
    "plt.plot(x, lorenz_curve, drawstyle='steps-post', label='Courbe de Lorenz')\n",
    "plt.plot([0, 1], [0, 1], 'k--', label='Égalité parfaite')  # Ligne d'égalité parfaite\n",
    "plt.fill_between(x, x, lorenz_curve, where=(lorenz_curve > x), facecolor='lightgray', interpolate=True)\n",
    "\n",
    "# Ajouter des labels et titre\n",
    "plt.xlabel('Pourcentage cumulé de clients')\n",
    "plt.ylabel('Pourcentage cumulé des dépenses')\n",
    "plt.title('Courbe de Lorenz des Dépenses des Clients')\n",
    "plt.legend()\n",
    "plt.grid(True)\n",
    "plt.savefig('Courbe de Lorenz des Dépenses des Clients.png')\n",
    "plt.show()"
   ]
  },
  {
   "cell_type": "code",
   "execution_count": null,
   "id": "ea76c10e",
   "metadata": {},
   "outputs": [],
   "source": [
    "# Calcul de l'indice de Gini\n",
    "gini_index = 1 - 2 * np.trapz(lorenz_curve, x)\n",
    "\n",
    "# Afficher l'indice de Gini\n",
    "print(f'Indice de Gini: {gini_index:.4f}')"
   ]
  },
  {
   "cell_type": "markdown",
   "id": "2cc113f2",
   "metadata": {},
   "source": [
    " Un indice de Gini de 0.4026 montre qu'il y a une concentration significative des dépenses parmi certains clients. C'est un signe que les dépenses ne sont pas répartis de manière uniforme."
   ]
  },
  {
   "cell_type": "markdown",
   "id": "bd85c3c7",
   "metadata": {},
   "source": [
    "### Analyse du panier moyen"
   ]
  },
  {
   "cell_type": "code",
   "execution_count": null,
   "id": "d05f68cc",
   "metadata": {},
   "outputs": [],
   "source": [
    "#Calcul du panier moyen en montant et nombre d'achats\n",
    "session_mean=normal_customers.groupby('session_id')['price'].sum().mean()\n",
    "session_product=normal_customers.groupby('session_id')['price'].count().mean()\n",
    "print('Le montant moyen d\\'une session est de', round(session_mean,2), '€, pour',round(session_product,2), 'produits achetés')"
   ]
  },
  {
   "cell_type": "code",
   "execution_count": null,
   "id": "61c5b903",
   "metadata": {},
   "outputs": [],
   "source": [
    "# Distribution montant panier\n",
    "session_montant=normal_customers.groupby('session_id')['price'].sum().reset_index()\n",
    "plt.figure(figsize=(10, 6))\n",
    "sns.histplot(session_montant['price'], bins = 20, kde= True, color='blue')\n",
    "plt.xlabel('Montant panier')\n",
    "plt.ylabel(' ')\n",
    "plt.title ('Distribution du montant panier') \n",
    "plt.xlim(left=0)\n",
    "plt.savefig('Distribution du montant panier.png')\n",
    "plt.show()"
   ]
  },
  {
   "cell_type": "code",
   "execution_count": null,
   "id": "15f59f87",
   "metadata": {},
   "outputs": [],
   "source": [
    "# Statistiques sur le montant du panier moyen\n",
    "session_montant.describe()"
   ]
  },
  {
   "cell_type": "markdown",
   "id": "f82290f6",
   "metadata": {},
   "source": [
    "Le montant panier à une moyenne de 34,37 € avec un écart type de 32,24 et une valeur médiane de 25,55.\n",
    "le minimum est de 0.62 € et le max 568,88 €"
   ]
  },
  {
   "cell_type": "code",
   "execution_count": null,
   "id": "88ca01ef",
   "metadata": {},
   "outputs": [],
   "source": [
    "# Affichage du coeff de variation et du skewness\n",
    "Coeff_variation_session = session_montant['price'].std()/session_montant['price'].mean()\n",
    "Skewness_session = session_montant['price'].skew()\n",
    "print('le coefficient de variation est de',round(Coeff_variation_session,2),'et le skewness empirique de',round(Skewness_session,2) )"
   ]
  },
  {
   "cell_type": "markdown",
   "id": "1efcf5e3",
   "metadata": {},
   "source": [
    "les montants des paniers des clients sont très dispersés, avec une forte tendance à avoir des montants beaucoup plus élevés que la moyenne. Cela peut indiquer que, bien que de nombreux clients aient des montants de paniers relativement faibles à modérés, il y a une minorité significative de clients qui dépensent des montants exceptionnellement élevés, ce qui crée une forte asymétrie dans la distribution des montants des paniers."
   ]
  },
  {
   "cell_type": "markdown",
   "id": "1c8294e4",
   "metadata": {},
   "source": [
    "# 5. Analyse des liaisons et corrélations"
   ]
  },
  {
   "cell_type": "markdown",
   "id": "38704cca",
   "metadata": {},
   "source": [
    "## 5.1 Liaison entre genre et catégorie de livre acheté"
   ]
  },
  {
   "cell_type": "markdown",
   "id": "e3d39bac",
   "metadata": {},
   "source": [
    "### Analyse graphique"
   ]
  },
  {
   "cell_type": "code",
   "execution_count": null,
   "id": "d3cefdc5",
   "metadata": {},
   "outputs": [],
   "source": [
    "# Créer un graphique de la relation entre 'sex' et 'categ'\n",
    "plt.figure(figsize=(8, 6))\n",
    "sns.countplot(data=normal_customers_age, x='categ', hue='sex')\n",
    "plt.xlabel('Categ')\n",
    "plt.ylabel('Nombre d\\'achat')\n",
    "plt.title('Relation entre le sexe et la catégorie de livre acheté')\n",
    "plt.show()"
   ]
  },
  {
   "cell_type": "markdown",
   "id": "5fe06331",
   "metadata": {},
   "source": [
    "### Test du chi-carré (chi2)\n",
    "\n",
    "##### Hypothèses\n",
    "\n",
    "H0 (hypothèse nulle): Il n'y a pas d'association entre les deux variables qualitatives.\n",
    "\n",
    "H1 (hypothèse alternative): Il y a une association entre les deux variables qualitatives."
   ]
  },
  {
   "cell_type": "code",
   "execution_count": null,
   "id": "3c6c4be4",
   "metadata": {
    "scrolled": true
   },
   "outputs": [],
   "source": [
    "# Créer un tableau de contingence\n",
    "contingency_table = pd.crosstab(normal_customers_age['sex'], normal_customers_age['categ'])\n",
    "contingency_table"
   ]
  },
  {
   "cell_type": "code",
   "execution_count": null,
   "id": "1cd63ff3",
   "metadata": {},
   "outputs": [],
   "source": [
    "# Effectuer le test du chi-carré\n",
    "chi2_stat, p_value, dof, expected_freq = chi2_contingency(contingency_table)\n",
    "\n",
    "# Afficher les résultats\n",
    "print(\"Statistique du chi-carré :\", chi2_stat)\n",
    "print(\"P-valeur :\", p_value)\n",
    "print(\"Degrés de liberté :\", dof)\n",
    "print(\"Fréquences attendues :\\n\", expected_freq)"
   ]
  },
  {
   "cell_type": "markdown",
   "id": "5158478c",
   "metadata": {},
   "source": [
    "La p-valeur très faible et la statistique du chi-carré élevée montrent qu'il existe une association significative entre le sexe et la catégorie de livre acheté. Les différences entre les fréquences observées et attendues sont suffisamment grandes pour conclure que les variables ne sont pas indépendantes.\n",
    "Il est nécessaire cependant de mesurer la force de cette relation avant de tirer des conclusions"
   ]
  },
  {
   "cell_type": "markdown",
   "id": "ab55b820",
   "metadata": {},
   "source": [
    "### Calcul du v de cramer"
   ]
  },
  {
   "cell_type": "markdown",
   "id": "837f960f",
   "metadata": {},
   "source": [
    "Le coefficient de Cramér-V mesure la force de l'association entre deux variables qualitatives. \n",
    "Il varie entre 0 (pas d'association) et 1 (association parfaite)."
   ]
  },
  {
   "cell_type": "code",
   "execution_count": null,
   "id": "ef4cc952",
   "metadata": {},
   "outputs": [],
   "source": [
    "# Calculer le coefficient de Cramér-V\n",
    "n = contingency_table.sum().sum()\n",
    "min_dim = min(contingency_table.shape) - 1\n",
    "cramer_v = np.sqrt(chi2_stat / (n * min_dim))\n",
    "\n",
    "# Afficher le coefficient de Cramér-V\n",
    "print(\"Coefficient de Cramér-V :\", cramer_v)"
   ]
  },
  {
   "cell_type": "markdown",
   "id": "6c818966",
   "metadata": {},
   "source": [
    "Même si les résultats du test du chi-carré sont statistiquement significatifs, la relation entre le sexe et la catégorie de livre achetée est très faible et probablement insignifiante en termes pratiques."
   ]
  },
  {
   "cell_type": "markdown",
   "id": "b8a2cc96",
   "metadata": {},
   "source": [
    "## 5.2 Corrélation entre l'âge et le montant total des achats"
   ]
  },
  {
   "cell_type": "markdown",
   "id": "707fe515",
   "metadata": {},
   "source": [
    "### Analyse graphique"
   ]
  },
  {
   "cell_type": "code",
   "execution_count": null,
   "id": "35534c0b",
   "metadata": {},
   "outputs": [],
   "source": [
    "# Calcul du montant total des achats par client\n",
    "customers_total_purchase=normal_customers_age.groupby('client_id')['price'].sum().reset_index()\n",
    "df_corr_age_total_purchase = pd.merge(normal_customers_age[['client_id','age']],customers_total_purchase, on='client_id', how='right')\n",
    "df_corr_age_total_purchase= df_corr_age_total_purchase.drop_duplicates(subset=['client_id'])\n",
    "df_corr_age_total_purchase"
   ]
  },
  {
   "cell_type": "code",
   "execution_count": null,
   "id": "1bde77a3",
   "metadata": {},
   "outputs": [],
   "source": [
    "# Traçage du nuage de points\n",
    "sns.scatterplot(x='age', y= 'price', data=df_corr_age_total_purchase)\n",
    "plt.show()"
   ]
  },
  {
   "cell_type": "code",
   "execution_count": null,
   "id": "5ce0927c",
   "metadata": {},
   "outputs": [],
   "source": [
    "# Discrétisation des âges\n",
    "# Diviser l'âge en tranches\n",
    "bins = [0, 20, 30, 40, 50, 60, 70, 80, 90, 100]\n",
    "labels = ['0-20', '21-30', '31-40', '41-50', '51-60', '61-70', '71-80', '81-90', '91-100']\n",
    "df_corr_age_total_purchase['age_group'] = pd.cut(df_corr_age_total_purchase['age'], bins=bins, labels=labels, right=False)\n",
    "\n",
    "# Créer des box plots par tranche d'âge\n",
    "plt.figure(figsize=(12, 6))\n",
    "sns.boxplot(x='age_group', y='price', data=df_corr_age_total_purchase)\n",
    "plt.title('Distribution du montant total des achats par tranche d\\'âge')\n",
    "plt.xlabel('Tranche d\\'âge')\n",
    "plt.ylabel('Montant total des achats')\n",
    "plt.savefig('Distribution du montant total des achats par tranche d\\'âge.png')\n",
    "plt.show()\n"
   ]
  },
  {
   "cell_type": "markdown",
   "id": "519bb26a",
   "metadata": {},
   "source": [
    "Les données montrent que le montant total des achats ne varie pas de manière significative entre les différentes tranches d'âge, bien qu'il y ait une légère augmentation pour les tranches d'âge 31-40. La présence de nombreuses valeurs aberrantes suggère que certains individus, quel que soit leur groupe d'âge, effectuent des achats beaucoup plus importants que la médiane. Cela peut indiquer des comportements d'achat individuels extrêmes au sein de chaque groupe d'âge."
   ]
  },
  {
   "cell_type": "markdown",
   "id": "8df72c04",
   "metadata": {},
   "source": [
    "### Test de Kolmogorov-Smirnov (normalité)\n",
    "\n",
    "##### Hypothèses\n",
    "\n",
    "H0 : les données sont distribuées selon la loi normale\n",
    "\n",
    "H1 : les données ne sont pas distribuées selon la loi normale"
   ]
  },
  {
   "cell_type": "code",
   "execution_count": null,
   "id": "5c54f359",
   "metadata": {},
   "outputs": [],
   "source": [
    "var1=\"age\"\n",
    "var2=\"price\"\n",
    "# Vérifier la normalité à l'aide du test de Kolmogorov-Smirnov (car n>2000)\n",
    "\n",
    "\n",
    "# Si p < 0.05, on rejette H0\n",
    "# Si p >= 0.05, on ne peut pas rejeter H0 et on conclut que la distribution est normale\n",
    "\n",
    "for var in [var1, var2]:\n",
    "    data = df_corr_age_total_purchase[var]\n",
    "    mean = data.mean()\n",
    "    std = data.std(ddof=1)\n",
    "    _, p_value = kstest(data, 'norm', args=(mean, std))\n",
    "    print(f\"P-valeur de la normalité (Kolmogorov-Smirnov) pour {var}:\", p_value)"
   ]
  },
  {
   "cell_type": "markdown",
   "id": "be7bdf86",
   "metadata": {},
   "source": [
    "Pour les deux variables, l'hypothèse H0 est rejetée.\n",
    "Étant donné que ni l'âge ni le montant total du panier ne suivent une distribution normale, il est approprié d'utiliser des méthodes non paramétriques comme la corélation de spearman pour analyser la relation entre ces variables."
   ]
  },
  {
   "cell_type": "markdown",
   "id": "e7b9cab0",
   "metadata": {},
   "source": [
    "### Corrélation de Spearman\n",
    "\n",
    "##### Hypothèses :\n",
    "\n",
    "H0 : Il n'y a pas de corrélation monotone entre les deux variables.\n",
    "\n",
    "H1 : Il y a une corrélation monotone entre les deux variables."
   ]
  },
  {
   "cell_type": "code",
   "execution_count": null,
   "id": "6b73bd56",
   "metadata": {},
   "outputs": [],
   "source": [
    "spearmanr(df_corr_age_total_purchase['age'], df_corr_age_total_purchase['price'])"
   ]
  },
  {
   "cell_type": "markdown",
   "id": "5ae90a85",
   "metadata": {},
   "source": [
    "La corrélation entre les deux variables est significative, ce qui signifie que nous pouvons rejeter l'hypothèse nulle d'absence de corrélation.\n",
    "Le coefficient de Spearman indique qu'il y a une tendance selon laquelle, lorsque l'une des variables augmente, l'autre tend à diminuer, mais cette relation est très faible et peut ne pas être très utile pour des prédictions ou des prises de décision importantes."
   ]
  },
  {
   "cell_type": "markdown",
   "id": "073d3cbe",
   "metadata": {},
   "source": [
    "## 5.3 Corrélation entre l'âge et la fréquence d'achat"
   ]
  },
  {
   "cell_type": "markdown",
   "id": "2f0d07e8",
   "metadata": {},
   "source": [
    "### Analyse graphique"
   ]
  },
  {
   "cell_type": "code",
   "execution_count": null,
   "id": "a69e4d61",
   "metadata": {},
   "outputs": [],
   "source": [
    "normal_customers_sorted=normal_customers.sort_index()"
   ]
  },
  {
   "cell_type": "code",
   "execution_count": null,
   "id": "9babf244",
   "metadata": {},
   "outputs": [],
   "source": [
    "# Réinitialiser l'index pour travailler avec des colonnes\n",
    "normal_customers_sorted['date'] = normal_customers_sorted.index\n",
    "normal_customers_sorted.reset_index(drop=True, inplace=True)\n",
    "normal_customers_sorted"
   ]
  },
  {
   "cell_type": "code",
   "execution_count": null,
   "id": "2479f2fc",
   "metadata": {},
   "outputs": [],
   "source": [
    "# Grouper par 'client_id' et 'date', en gardant des dates uniques\n",
    "df_unique = df.groupby(['client_id', 'date']).first().reset_index()\n",
    "\n",
    "# Filtrer les clients avec au moins 4 dates uniques\n",
    "filtered_customers = df_unique.groupby('client_id').filter(lambda x: len(x) >= 4)\n",
    "\n",
    "# Définir 'date' comme index\n",
    "filtered_customers.set_index('date', inplace=True)\n",
    "\n",
    "# Calculer les jours entre achats pour chaque client\n",
    "def calculate_intervals(group):\n",
    "    group['Interval'] = group.index.to_series().diff().dt.days\n",
    "    return group\n",
    "\n",
    "interval_purchase_by_customers = filtered_customers.groupby('client_id').apply(calculate_intervals)\n",
    "# Supprimer la première ligne de chaque groupe, car elle aura un intervalle NaN\n",
    "interval_purchase_by_customers = interval_purchase_by_customers.dropna(subset=['Interval'])\n",
    "interval_purchase_by_customers"
   ]
  },
  {
   "cell_type": "code",
   "execution_count": null,
   "id": "9a0c19fe",
   "metadata": {},
   "outputs": [],
   "source": [
    "interval_purchase_by_customers.reset_index(drop=True, inplace=True)"
   ]
  },
  {
   "cell_type": "code",
   "execution_count": null,
   "id": "44229eac",
   "metadata": {},
   "outputs": [],
   "source": [
    "interval_purchase_by_customers"
   ]
  },
  {
   "cell_type": "code",
   "execution_count": 8,
   "id": "390ef972",
   "metadata": {},
   "outputs": [
    {
     "ename": "NameError",
     "evalue": "name 'interval_purchase_by_customers' is not defined",
     "output_type": "error",
     "traceback": [
      "\u001b[1;31m---------------------------------------------------------------------------\u001b[0m",
      "\u001b[1;31mNameError\u001b[0m                                 Traceback (most recent call last)",
      "Cell \u001b[1;32mIn[8], line 2\u001b[0m\n\u001b[0;32m      1\u001b[0m \u001b[38;5;66;03m# Calcul de la moyenne des jours entre achats pour chaque client\u001b[39;00m\n\u001b[1;32m----> 2\u001b[0m average_intervals_by_customers \u001b[38;5;241m=\u001b[39m interval_purchase_by_customers\u001b[38;5;241m.\u001b[39mgroupby(\u001b[38;5;124m'\u001b[39m\u001b[38;5;124mclient_id\u001b[39m\u001b[38;5;124m'\u001b[39m)[\u001b[38;5;124m'\u001b[39m\u001b[38;5;124mInterval\u001b[39m\u001b[38;5;124m'\u001b[39m]\u001b[38;5;241m.\u001b[39mmean()\u001b[38;5;241m.\u001b[39mreset_index()\n\u001b[0;32m      3\u001b[0m purchase_frequency_by_customers \u001b[38;5;241m=\u001b[39m average_intervals_by_customers\n\u001b[0;32m      4\u001b[0m \u001b[38;5;66;03m# Calcul du nombre d'achat par mois\u001b[39;00m\n",
      "\u001b[1;31mNameError\u001b[0m: name 'interval_purchase_by_customers' is not defined"
     ]
    }
   ],
   "source": [
    "# Calcul de la moyenne des jours entre achats pour chaque client\n",
    "average_intervals_by_customers = interval_purchase_by_customers.groupby('client_id')['Interval'].mean().reset_index()\n",
    "purchase_frequency_by_customers = average_intervals_by_customers\n",
    "# Calcul du nombre d'achat par mois\n",
    "purchase_frequency_by_customers['frequency']= round(30/purchase_frequency_by_customers['Interval'],2)\n",
    "purchase_frequency_by_customers"
   ]
  },
  {
   "cell_type": "code",
   "execution_count": null,
   "id": "153c094b",
   "metadata": {},
   "outputs": [],
   "source": [
    "# Jointure avec le Df des âges\n",
    "df_corr_age_purchase_frequency = pd.merge(normal_customers_age[['client_id','age']],purchase_frequency_by_customers, on='client_id', how='inner')\n",
    "df_corr_age_purchase_frequency = df_corr_age_purchase_frequency.drop_duplicates(subset=['client_id'])\n",
    "df_corr_age_purchase_frequency"
   ]
  },
  {
   "cell_type": "code",
   "execution_count": null,
   "id": "163a9254",
   "metadata": {},
   "outputs": [],
   "source": [
    "# Nuage de points\n",
    "sns.scatterplot(x='age', y='frequency',data=df_corr_age_purchase_frequency)\n",
    "plt.show()"
   ]
  },
  {
   "cell_type": "code",
   "execution_count": null,
   "id": "d744f8d7",
   "metadata": {},
   "outputs": [],
   "source": [
    "# Discrétisation des âges\n",
    "# Diviser l'âge en tranches\n",
    "bins = [0, 20, 30, 40, 50, 60, 70, 80, 90, 100]\n",
    "labels = ['0-20', '21-30', '31-40', '41-50', '51-60', '61-70', '71-80', '81-90', '91-100']\n",
    "df_corr_age_purchase_frequency['age_group'] = pd.cut(df_corr_age_purchase_frequency['age'], bins=bins, labels=labels, right=False)\n",
    "\n",
    "# Créer des box plots par tranche d'âge\n",
    "plt.figure(figsize=(12, 6))\n",
    "sns.boxplot(x='age_group', y='frequency', data=df_corr_age_purchase_frequency)\n",
    "plt.title('Distribution de la fréquence d\\'achat par tranche d\\'âge')\n",
    "plt.xlabel('Tranche d\\'âge')\n",
    "plt.ylabel('Nombre d\\'achats par mois')\n",
    "plt.savefig('Distribution de la fréquence d\\'achat par tranche d\\'âge.png')\n",
    "plt.show()"
   ]
  },
  {
   "cell_type": "markdown",
   "id": "f962944b",
   "metadata": {},
   "source": [
    "##### Fréquence d'Achat Moyenne :\n",
    "\n",
    "Les tranches d'âge 31-40, 41-50, et 51-60 ans montrent des fréquences d'achat plus élevées en moyenne comparées aux autres tranches d'âge, avec des médianes autour de 1.5.\n",
    "Les tranches d'âge plus jeunes (0-20 et 21-30 ans) et plus âgées (71-80, 81-90, 91-100 ans) montrent des fréquences d'achat plus faibles avec des médianes autour de 1.\n",
    "\n",
    "##### Dispersion des Fréquences d'Achat :\n",
    "\n",
    "Les tranches d'âge 31-40, 41-50, et 51-60 ans montrent une plus grande dispersion des fréquences d'achat avec plusieurs valeurs aberrantes, indiquant qu'il y a des individus dans ces groupes qui achètent beaucoup plus fréquemment que la moyenne.\n",
    "Les tranches d'âge plus jeunes et plus âgées montrent moins de dispersion et moins de valeurs aberrantes, suggérant une fréquence d'achat plus homogène.\n",
    "\n",
    "##### Valeurs Aberrantes :\n",
    "\n",
    "Les valeurs aberrantes sont plus nombreuses dans les tranches d'âge 31-40, 41-50, et 51-60 ans, indiquant que certains clients dans ces groupes achètent beaucoup plus fréquemment que leurs pairs."
   ]
  },
  {
   "cell_type": "markdown",
   "id": "f5d5e036",
   "metadata": {},
   "source": [
    "### Test de Kolmogorov-Smirnov (normalité)\n",
    "\n",
    "##### Hypothèses\n",
    "\n",
    "H0 : les données sont distribuées selon la loi normale\n",
    "\n",
    "H1 : les données ne sont pas distribuées selon la loi normale"
   ]
  },
  {
   "cell_type": "code",
   "execution_count": null,
   "id": "90e8d0dc",
   "metadata": {},
   "outputs": [],
   "source": [
    "var1=\"age\"\n",
    "var2=\"frequency\"\n",
    "\n",
    "# Si p < 0.05, on rejette H0\n",
    "# Si p >= 0.05, on ne peut pas rejeter H0 et on conclut que la distribution est normale\n",
    "\n",
    "for var in [var1, var2]:\n",
    "    data = df_corr_age_purchase_frequency[var]\n",
    "    mean = data.mean()\n",
    "    std = data.std(ddof=1)\n",
    "    _, p_value = kstest(data, 'norm', args=(mean, std))\n",
    "    print(f\"P-valeur de la normalité (Kolmogorov-Smirnov) pour {var}:\", p_value)"
   ]
  },
  {
   "cell_type": "markdown",
   "id": "85e21dc0",
   "metadata": {},
   "source": [
    "L'hypothèse H0 est rejetée dans les deux cas"
   ]
  },
  {
   "cell_type": "markdown",
   "id": "b3a24efd",
   "metadata": {},
   "source": [
    "### Corrélation de Spearman\n",
    "\n",
    "##### Hypothèses :\n",
    "\n",
    "H0 : Il n'y a pas de corrélation monotone entre les deux variables.\n",
    "\n",
    "H1 : Il y a une corrélation monotone entre les deux variables."
   ]
  },
  {
   "cell_type": "code",
   "execution_count": null,
   "id": "2a66cca2",
   "metadata": {},
   "outputs": [],
   "source": [
    "spearmanr(df_corr_age_purchase_frequency['age'], df_corr_age_purchase_frequency['frequency'])"
   ]
  },
  {
   "cell_type": "markdown",
   "id": "9714f8f2",
   "metadata": {},
   "source": [
    "Bien que la relation entre la fréquence d'achat et l'âge soit statistiquement significative, elle est faible. \n",
    "Il existe une légère tendance pour que les personnes achètent plus fréquemment en vieillissant, mais cette tendance n'est pas très prononcée."
   ]
  },
  {
   "cell_type": "markdown",
   "id": "3733ee6e",
   "metadata": {},
   "source": [
    "## 5.4 Corrélation entre l'âge et le panier moyen"
   ]
  },
  {
   "cell_type": "markdown",
   "id": "e230fa32",
   "metadata": {},
   "source": [
    "### Analyse graphique"
   ]
  },
  {
   "cell_type": "code",
   "execution_count": null,
   "id": "4b9d5cc1",
   "metadata": {},
   "outputs": [],
   "source": [
    "# Création d'un Df avec l'âge et le montant du panier moyen par client\n",
    "session_customers_total=normal_customers.groupby(['client_id','session_id'])['price'].sum().reset_index()\n",
    "customers_session_mean= session_customers_total.groupby('client_id')['price'].mean().round(2).reset_index()\n",
    "df_corr_age_paniermoyen = pd.merge(normal_customers_age[['client_id','age']],customers_session_mean, on='client_id', how='right')\n",
    "df_corr_age_paniermoyen= df_corr_age_paniermoyen.drop_duplicates(subset=['client_id'])\n",
    "df_corr_age_paniermoyen                                                                             "
   ]
  },
  {
   "cell_type": "code",
   "execution_count": null,
   "id": "1c4f792a",
   "metadata": {},
   "outputs": [],
   "source": [
    "sns.scatterplot( data=df_corr_age_paniermoyen, x= \"age\", y= \"price\")\n",
    "plt.show()"
   ]
  },
  {
   "cell_type": "code",
   "execution_count": null,
   "id": "18a830b5",
   "metadata": {},
   "outputs": [],
   "source": [
    "# Discrétisation des âges\n",
    "# Diviser l'âge en tranches\n",
    "bins = [0, 20, 30, 40, 50, 60, 70, 80, 90, 100]\n",
    "labels = ['0-20', '21-30', '31-40', '41-50', '51-60', '61-70', '71-80', '81-90', '91-100']\n",
    "df_corr_age_paniermoyen['age_group'] = pd.cut(df_corr_age_paniermoyen['age'], bins=bins, labels=labels, right=False)\n",
    "\n",
    "# Créer des box plots par tranche d'âge\n",
    "plt.figure(figsize=(12, 6))\n",
    "sns.boxplot(x='age_group', y='price', data=df_corr_age_paniermoyen,)\n",
    "plt.title('Distribution du montant du panier par tranche d\\'âge')\n",
    "plt.xlabel('Tranche d\\'âge')\n",
    "plt.ylabel('Montant du panier')\n",
    "plt.savefig('Distribution du montant du panier par tranche d\\'âge.png')\n",
    "plt.show()"
   ]
  },
  {
   "cell_type": "markdown",
   "id": "12ead4d0",
   "metadata": {},
   "source": [
    "Observations\n",
    "Tranches d'âge 0-20 et 21-30 :\n",
    "\n",
    "Ces tranches présentent les montants de paniers les plus élevés, avec des médianes plus élevées par rapport aux autres tranches.\n",
    "Il y a une large dispersion des montants des paniers dans ces tranches d'âge, avec de nombreux points aberrants (outliers) allant jusqu'à plus de 250.\n",
    "\n",
    "Tranches d'âge 31-40 et au-delà :\n",
    "\n",
    "À partir de la tranche 31-40, la médiane des montants des paniers diminue significativement.\n",
    "Les montants des paniers sont beaucoup moins dispersés dans ces tranches d'âge, avec des médianes et des intervalles interquartiles plus bas et plus concentrés.\n",
    "\n",
    "Tendances générales :\n",
    "\n",
    "Une tendance générale à la diminution du montant du panier moyen avec l'âge est visible.\n",
    "Les tranches d'âge supérieures (à partir de 31-40) montrent des paniers avec des montants plus faibles et moins de dispersion, suggérant une plus grande cohérence dans les habitudes de dépenses.\n",
    "\n",
    "Conclusion\n",
    "\n",
    "Dépenses élevées chez les jeunes adultes : Les jeunes adultes (0-30 ans) semblent avoir des montants de panier plus élevés et plus variés. Cela peut être dû à plusieurs facteurs tels que des achats impulsifs, moins de responsabilités financières ou des préférences de consommation différentes.\n",
    "\n",
    "Dépenses plus faibles et cohérentes chez les adultes plus âgés : Les adultes de 31 ans et plus ont tendance à dépenser moins en moyenne, et leurs montants de panier sont plus cohérents. Cela peut indiquer des habitudes d'achat plus établies, des budgets plus stricts, ou des préférences de consommation différentes."
   ]
  },
  {
   "cell_type": "markdown",
   "id": "ffb81d25",
   "metadata": {},
   "source": [
    "### Test de Kolmogorov-Smirnov (normalité)\n",
    "\n",
    "##### Hypothèses\n",
    "\n",
    "H0 : les données sont distribuées selon la loi normale\n",
    "\n",
    "H1 : les données ne sont pas distribuées selon la loi normale"
   ]
  },
  {
   "cell_type": "code",
   "execution_count": null,
   "id": "2b17f17d",
   "metadata": {},
   "outputs": [],
   "source": [
    "var1=\"age\"\n",
    "var2=\"price\"\n",
    "\n",
    "# Si p < 0.05, on rejette H0\n",
    "# Si p >= 0.05, on ne peut pas rejeter H0 et on conclut que la distribution est normale\n",
    "\n",
    "for var in [var1, var2]:\n",
    "    data = df_corr_age_paniermoyen[var]\n",
    "    mean = data.mean()\n",
    "    std = data.std(ddof=1)\n",
    "    _, p_value = kstest(data, 'norm', args=(mean, std))\n",
    "    print(f\"P-valeur de la normalité (Kolmogorov-Smirnov) pour {var}:\", p_value)"
   ]
  },
  {
   "cell_type": "markdown",
   "id": "3709ddf1",
   "metadata": {},
   "source": [
    "Dans les deux cas l'hypothèse H0 est rejetée et donc ni l'âge ni le montant du panier ne suivent une distribution normale. Il est donc approprié d'utiliser des méthodes non paramétriques comme la corélation de spearman pour analyser la relation entre ces variables. "
   ]
  },
  {
   "cell_type": "markdown",
   "id": "acc2574f",
   "metadata": {},
   "source": [
    "### Corrélation de Spearman\n",
    "\n",
    "##### Hypothèses :\n",
    "\n",
    "H0 : Il n'y a pas de corrélation monotone entre les deux variables.\n",
    "\n",
    "H1 : Il y a une corrélation monotone entre les deux variables."
   ]
  },
  {
   "cell_type": "code",
   "execution_count": null,
   "id": "eca26395",
   "metadata": {},
   "outputs": [],
   "source": [
    "spearmanr(df_corr_age_paniermoyen['age'], df_corr_age_paniermoyen['price'])"
   ]
  },
  {
   "cell_type": "markdown",
   "id": "d24bc287",
   "metadata": {},
   "source": [
    " Le coefficient de Corrélation de Spearman indique une corrélation négative modérée à forte entre le montant du panier et l'âge des clients. En d'autres termes, lorsque l'âge des clients augmente, le montant du panier tend à diminuer, et vice versa.\n",
    "La force de la corrélation est assez significative, ce qui suggère que cette relation est relativement prononcée.\n",
    "\n",
    "\n",
    "La p-valeur extrêmement faible indique que la corrélation observée est statistiquement significative. \n",
    "La p-valeur de 0.0 (ou proche de zéro) confirme que le résultat est robuste et que la relation entre le montant du panier et l'âge des clients est très significative d'un point de vue statistique."
   ]
  },
  {
   "cell_type": "markdown",
   "id": "a698689a",
   "metadata": {},
   "source": [
    "## 5.5 Liaison entre l'âge des clients et la catégorie de livre acheté"
   ]
  },
  {
   "cell_type": "markdown",
   "id": "9fbe59c3",
   "metadata": {},
   "source": [
    "### Analyse graphique"
   ]
  },
  {
   "cell_type": "code",
   "execution_count": null,
   "id": "34592aa0",
   "metadata": {},
   "outputs": [],
   "source": [
    "# Créer un boxplot \n",
    "plt.figure(figsize=(8, 6))\n",
    "sns.boxplot(data=normal_customers_age, x='categ', y='age',showfliers=False)\n",
    "plt.xlabel('Catégorie')\n",
    "plt.ylabel('Age')\n",
    "plt.title('Relation entre l\\'âge du client et la catégorie de livre achetée')\n",
    "plt.savefig('Relation entre l\\'âge du client et la catégorie de livre achetée')\n",
    "plt.show()"
   ]
  },
  {
   "cell_type": "markdown",
   "id": "46e6dd62",
   "metadata": {},
   "source": [
    "Les livres de la catégorie 1 semblent attirer un public plus large en termes d'âge, y compris des personnes très âgées.\n",
    "Les livres de la catégorie 2 attirent principalement un public jeune.\n",
    "Les livres de la catégorie 0 attirent un public d'âge moyen."
   ]
  },
  {
   "cell_type": "code",
   "execution_count": null,
   "id": "5711b84f",
   "metadata": {},
   "outputs": [],
   "source": [
    "description_per_categ = normal_customers_age.groupby('categ')['age'].describe()"
   ]
  },
  {
   "cell_type": "markdown",
   "id": "b728eb6d",
   "metadata": {},
   "source": [
    "| categorie | âge moyen | écart type |\n",
    "|-------|---------|------------|\n",
    "| 0     | 45      | 12         |\n",
    "| 1     | 49      | 16         |\n",
    "| 2     | 27      | 10         |\n"
   ]
  },
  {
   "cell_type": "code",
   "execution_count": null,
   "id": "a9831443",
   "metadata": {},
   "outputs": [],
   "source": [
    "# Extraire les âges pour chaque catégorie\n",
    "ages_categ_0 = normal_customers_age[normal_customers_age['categ'] == 0]['age']\n",
    "ages_categ_1 = normal_customers_age[normal_customers_age['categ'] == 1]['age']\n",
    "ages_categ_2 = normal_customers_age[normal_customers_age['categ'] == 2]['age']\n"
   ]
  },
  {
   "cell_type": "markdown",
   "id": "a9fd26f7",
   "metadata": {},
   "source": [
    "### ANOVA"
   ]
  },
  {
   "cell_type": "markdown",
   "id": "61c8f186",
   "metadata": {},
   "source": [
    "##### Hypothèses\n",
    "H0 : Les moyennes de tous les groupes sont égales\n",
    "\n",
    "H1 : Au moins une des moyennes des groupes est différente des autres."
   ]
  },
  {
   "cell_type": "code",
   "execution_count": null,
   "id": "f7310e0f",
   "metadata": {},
   "outputs": [],
   "source": [
    "# ANOVA\n",
    "anova_stat, anova_p_value = f_oneway(ages_categ_0, ages_categ_1, ages_categ_2)\n",
    "print(\"Statistique F de l'ANOVA :\", anova_stat)\n",
    "print(\"P-valeur (ANOVA) :\", anova_p_value)"
   ]
  },
  {
   "cell_type": "markdown",
   "id": "db66928f",
   "metadata": {},
   "source": [
    "La P-valeur est infèrieure à 0.05, HO est donc rejetée.\n",
    "\n",
    "Nous allons effectuer donc un test de Levene pour vérifier l'hypothèse d'égalité des variances (homoscédasticité)."
   ]
  },
  {
   "cell_type": "markdown",
   "id": "40e14def",
   "metadata": {},
   "source": [
    "### Test de Levene pour l'égalité des variances"
   ]
  },
  {
   "cell_type": "markdown",
   "id": "8e05d131",
   "metadata": {},
   "source": [
    "##### Hypothèses\n",
    "H0 : Les variances de tous les groupes sont égales\n",
    "\n",
    "H1 : Au moins une des variances des groupes est différente des autres."
   ]
  },
  {
   "cell_type": "code",
   "execution_count": null,
   "id": "ee99823d",
   "metadata": {},
   "outputs": [],
   "source": [
    "# Test de Levene pour l'égalité des variances\n",
    "levene_stat, levene_p_value = levene(ages_categ_0, ages_categ_1, ages_categ_2)\n",
    "print(\"Statistique W de Levene :\", levene_stat)\n",
    "print(\"P-valeur (Levene) :\", levene_p_value)"
   ]
  },
  {
   "cell_type": "markdown",
   "id": "2f8ab17a",
   "metadata": {},
   "source": [
    "H0 est rejetée, les variances ne sont pas égales entre les groupes.\n",
    "Cependant comme l'on soupçonne que la variable 'age' n'est pas normalement distribuée au sein de chaque groupe, on complète l'analyse par un test de Kruskal-Wallis qui est plus approprié dans ce cas"
   ]
  },
  {
   "cell_type": "markdown",
   "id": "697f28ff",
   "metadata": {},
   "source": [
    "### Test de Kolmogorov-Smirnov (normalité)\n",
    "\n",
    "On teste si la variable 'age' est normalement distribuée dans chaque groupe.\n",
    "\n",
    "##### Hypothèses\n",
    "H0 : les données sont distribuées selon la loi normale\n",
    "\n",
    "H1 : les données ne sont pas distribuées selon la loi normale"
   ]
  },
  {
   "cell_type": "code",
   "execution_count": null,
   "id": "d75c9ddf",
   "metadata": {},
   "outputs": [],
   "source": [
    "# Test de Kolmogorov-Smirnov\n",
    "def test_normality_ks(data):\n",
    "    # Ajustement de la distribution normale aux données\n",
    "    mu, std = norm.fit(data)\n",
    "    statistic, p_value = kstest(data, 'norm', args=(mu, std))\n",
    "    return statistic, p_value\n",
    "\n",
    "\n",
    "results_ks_0 = test_normality_ks(ages_categ_0)\n",
    "results_ks_1 = test_normality_ks(ages_categ_1)\n",
    "results_ks_2 = test_normality_ks(ages_categ_2)\n",
    "\n",
    "\n",
    "print(\"Test de Kolmogorov-Smirnov pour la catégorie 0 :\")\n",
    "print(f\"Statistique : {results_ks_0[0]}, Valeur p : {results_ks_0[1]}\")\n",
    "\n",
    "print(\"Test de Kolmogorov-Smirnov pour la catégorie 1 :\")\n",
    "print(f\"Statistique : {results_ks_1[0]}, Valeur p : {results_ks_1[1]}\")\n",
    "\n",
    "print(\"Test de Kolmogorov-Smirnov pour la catégorie 2 :\")\n",
    "print(f\"Statistique : {results_ks_2[0]}, Valeur p : {results_ks_2[1]}\")"
   ]
  },
  {
   "cell_type": "markdown",
   "id": "96d7ad7b",
   "metadata": {},
   "source": [
    "L'hypothèse H0 est rejetée dans les trois cas. \n",
    "Les prix ne suivent pas une distribution normale et le test de Kruskal-Wallis est donc le plus approprié "
   ]
  },
  {
   "cell_type": "markdown",
   "id": "c8721e17",
   "metadata": {},
   "source": [
    "### Test de Kruskal-Wallis"
   ]
  },
  {
   "cell_type": "markdown",
   "id": "fcd5efdd",
   "metadata": {},
   "source": [
    "##### Hypothèses\n",
    "\n",
    "H0 : Les distributions de tous les groupes sont égales.\n",
    "\n",
    "H1 : Au moins une des distributions des groupes est différente des autres."
   ]
  },
  {
   "cell_type": "code",
   "execution_count": null,
   "id": "05cf3613",
   "metadata": {},
   "outputs": [],
   "source": [
    "stat, p_value = kruskal(ages_categ_0, ages_categ_1, ages_categ_2)\n",
    "print(f\"Statistique de Kruskal-Wallis : {stat}, Valeur p : {p_value}\")\n"
   ]
  },
  {
   "cell_type": "markdown",
   "id": "fca000eb",
   "metadata": {},
   "source": [
    "L'hypothèse Ho est rejetée\n",
    "Il y a donc des différences significatives dans les distributions d'âge entre les catégories de livres, comme nous l'avions vu avec l'ANOVA et le test de Levène"
   ]
  }
 ],
 "metadata": {
  "kernelspec": {
   "display_name": "Python 3 (ipykernel)",
   "language": "python",
   "name": "python3"
  },
  "language_info": {
   "codemirror_mode": {
    "name": "ipython",
    "version": 3
   },
   "file_extension": ".py",
   "mimetype": "text/x-python",
   "name": "python",
   "nbconvert_exporter": "python",
   "pygments_lexer": "ipython3",
   "version": "3.11.5"
  }
 },
 "nbformat": 4,
 "nbformat_minor": 5
}
